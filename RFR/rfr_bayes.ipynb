{
 "cells": [
  {
   "cell_type": "code",
   "execution_count": 1,
   "metadata": {
    "colab": {
     "base_uri": "https://localhost:8080/"
    },
    "id": "-PTV0iokUXNq",
    "outputId": "926b2806-5997-4a69-ec05-e4ddfbddc514"
   },
   "outputs": [
    {
     "name": "stdout",
     "output_type": "stream",
     "text": [
      "num of cpus: 128\n"
     ]
    }
   ],
   "source": [
    "#from google.colab import drive\n",
    "#drive.mount('/content/drive/')\n",
    "import multiprocessing\n",
    "print(\"num of cpus:\", multiprocessing.cpu_count())\n"
   ]
  },
  {
   "cell_type": "code",
   "execution_count": 2,
   "metadata": {
    "id": "3G2N5HtWULxE",
    "tags": []
   },
   "outputs": [
    {
     "name": "stdout",
     "output_type": "stream",
     "text": [
      "<class 'numpy.ndarray'> (15000, 301)\n",
      "(15000, 8)\n"
     ]
    }
   ],
   "source": [
    "import os\n",
    "import pandas as pd\n",
    "import numpy as np\n",
    "from sklearn.model_selection import train_test_split\n",
    "from sklearn.preprocessing import StandardScaler\n",
    "\n",
    "#folder_path = '/content/drive/MyDrive/TDS_data_15000'\n",
    "folder_path = './15K files/'\n",
    "#Load and preprocess the data\n",
    "def load_data(folder_path):\n",
    "  data = {}\n",
    "  for filename in os.listdir(folder_path):\n",
    "      file_path = os.path.join(folder_path, filename)\n",
    "      if os.path.isfile(file_path):\n",
    "          with open(file_path, 'r') as file:\n",
    "              df1 = pd.read_csv(file_path, header=None, names=['des_flux', 'detrap_en', 'def_conc'], index_col=None, squeeze = True)\n",
    "              data[filename] = df1\n",
    "    \n",
    "              num_datapts = len(df1[\"des_flux\"])\n",
    "  # Combine all the data into a single dataframe\n",
    "  df = pd.concat(data.values())\n",
    "\n",
    "  return df, num_datapts\n",
    "\n",
    "df, num_datapts = load_data(folder_path)\n",
    "\n",
    "des_flux=df['des_flux']\n",
    "des_flux=des_flux.tolist()\n",
    "num_files=int(len(des_flux)/num_datapts) \n",
    "des_flux=np.reshape(des_flux, [num_files, num_datapts])\n",
    "    # This assumes that all spectra in the dataset/folder have the same\n",
    "    # amount of datapoints\n",
    "print(type(des_flux[0]), des_flux.shape)\n",
    "\n",
    "detrap_en=df['detrap_en']\n",
    "detrap_en=detrap_en.dropna()\n",
    "detrap_en=detrap_en.tolist()\n",
    "num_files=int(len(detrap_en)/4)\n",
    "detrap_en=np.reshape(detrap_en, [num_files, 4])\n",
    "\n",
    "\n",
    "def_conc=df['def_conc']\n",
    "def_conc=def_conc.dropna()\n",
    "def_conc=def_conc.tolist()\n",
    "num_files=int(len(def_conc)/4)\n",
    "def_conc=np.reshape(def_conc, [num_files, 4])\n",
    "\n",
    "\n",
    "def_param = np.concatenate([detrap_en, def_conc], axis=1)\n",
    "def_param = np.log10(def_param) # transforming the targets\n",
    "print(def_param.shape)"
   ]
  },
  {
   "cell_type": "markdown",
   "metadata": {},
   "source": [
    "##### Manually adding features"
   ]
  },
  {
   "cell_type": "markdown",
   "metadata": {},
   "source": [
    "Note that the features table only takes into account the global maximum and not any local max.\n"
   ]
  },
  {
   "cell_type": "code",
   "execution_count": 3,
   "metadata": {},
   "outputs": [],
   "source": [
    "# Peak information\n",
    "# Peak heights, position, and full width at half max\n",
    "from scipy.signal import peak_widths, find_peaks, peak_prominences\n",
    "from scipy.optimize import curve_fit\n",
    "from sklearn.metrics import auc\n",
    "\n",
    "\n",
    "peak_heights = []\n",
    "fwhm = []\n",
    "peak_positions = []\n",
    "area_under_curves = []\n",
    "stdev = []\n",
    "peak_prom = []\n",
    "\n",
    "for i in des_flux:\n",
    "    peaks, _ = find_peaks(i)\n",
    "    peak_pos = np.argmax(i)\n",
    "    peak_height = np.max(i)\n",
    "    peak_width, _, _, _ = peak_widths(i, [peak_pos], rel_height=0.5) \n",
    "        #taking only the first output (widths)\n",
    "    prominence = np.max(peak_prominences(i, peaks)[0])\n",
    "    peak_heights.append(peak_height)\n",
    "    peak_prom.append(prominence)\n",
    "    fwhm.append(peak_width[0])\n",
    "    peak_positions.append(peak_pos)\n",
    "# Area under curve\n",
    "# Calculated using the trapezoidal method\n",
    "    area_under_curve = auc(range(0,len(i)), i)\n",
    "    area_under_curves.append(area_under_curve)\n",
    "#STDEV\n",
    "    spectra_std = np.std(i)\n",
    "    stdev.append(spectra_std)\n"
   ]
  },
  {
   "cell_type": "code",
   "execution_count": 4,
   "metadata": {},
   "outputs": [
    {
     "data": {
      "text/html": [
       "<div>\n",
       "<style scoped>\n",
       "    .dataframe tbody tr th:only-of-type {\n",
       "        vertical-align: middle;\n",
       "    }\n",
       "\n",
       "    .dataframe tbody tr th {\n",
       "        vertical-align: top;\n",
       "    }\n",
       "\n",
       "    .dataframe thead th {\n",
       "        text-align: right;\n",
       "    }\n",
       "</style>\n",
       "<table border=\"1\" class=\"dataframe\">\n",
       "  <thead>\n",
       "    <tr style=\"text-align: right;\">\n",
       "      <th></th>\n",
       "      <th>PCA Component 1</th>\n",
       "      <th>PCA Component 2</th>\n",
       "      <th>PCA Component 3</th>\n",
       "      <th>PCA Component 4</th>\n",
       "      <th>PCA Component 5</th>\n",
       "    </tr>\n",
       "  </thead>\n",
       "  <tbody>\n",
       "    <tr>\n",
       "      <th>0</th>\n",
       "      <td>2.399713</td>\n",
       "      <td>-0.099691</td>\n",
       "      <td>1.043877</td>\n",
       "      <td>0.246222</td>\n",
       "      <td>0.566587</td>\n",
       "    </tr>\n",
       "    <tr>\n",
       "      <th>1</th>\n",
       "      <td>0.981449</td>\n",
       "      <td>-1.023512</td>\n",
       "      <td>1.474494</td>\n",
       "      <td>-0.164535</td>\n",
       "      <td>-0.482770</td>\n",
       "    </tr>\n",
       "    <tr>\n",
       "      <th>2</th>\n",
       "      <td>0.639782</td>\n",
       "      <td>0.615698</td>\n",
       "      <td>0.083897</td>\n",
       "      <td>-0.258922</td>\n",
       "      <td>-0.369535</td>\n",
       "    </tr>\n",
       "    <tr>\n",
       "      <th>3</th>\n",
       "      <td>0.829157</td>\n",
       "      <td>0.559444</td>\n",
       "      <td>-0.258759</td>\n",
       "      <td>-0.361560</td>\n",
       "      <td>0.416992</td>\n",
       "    </tr>\n",
       "    <tr>\n",
       "      <th>4</th>\n",
       "      <td>-0.027969</td>\n",
       "      <td>0.382054</td>\n",
       "      <td>0.181193</td>\n",
       "      <td>-0.579052</td>\n",
       "      <td>-0.327126</td>\n",
       "    </tr>\n",
       "    <tr>\n",
       "      <th>...</th>\n",
       "      <td>...</td>\n",
       "      <td>...</td>\n",
       "      <td>...</td>\n",
       "      <td>...</td>\n",
       "      <td>...</td>\n",
       "    </tr>\n",
       "    <tr>\n",
       "      <th>14995</th>\n",
       "      <td>0.512062</td>\n",
       "      <td>-0.229937</td>\n",
       "      <td>1.031827</td>\n",
       "      <td>-1.135168</td>\n",
       "      <td>0.779304</td>\n",
       "    </tr>\n",
       "    <tr>\n",
       "      <th>14996</th>\n",
       "      <td>-0.795610</td>\n",
       "      <td>1.118923</td>\n",
       "      <td>-0.723470</td>\n",
       "      <td>0.235511</td>\n",
       "      <td>-1.985075</td>\n",
       "    </tr>\n",
       "    <tr>\n",
       "      <th>14997</th>\n",
       "      <td>-1.387056</td>\n",
       "      <td>0.743302</td>\n",
       "      <td>1.960027</td>\n",
       "      <td>2.773962</td>\n",
       "      <td>-0.735943</td>\n",
       "    </tr>\n",
       "    <tr>\n",
       "      <th>14998</th>\n",
       "      <td>-1.160667</td>\n",
       "      <td>2.359334</td>\n",
       "      <td>5.311600</td>\n",
       "      <td>9.574801</td>\n",
       "      <td>8.489554</td>\n",
       "    </tr>\n",
       "    <tr>\n",
       "      <th>14999</th>\n",
       "      <td>0.937314</td>\n",
       "      <td>0.663470</td>\n",
       "      <td>-0.714688</td>\n",
       "      <td>0.304591</td>\n",
       "      <td>-1.149136</td>\n",
       "    </tr>\n",
       "  </tbody>\n",
       "</table>\n",
       "<p>15000 rows × 5 columns</p>\n",
       "</div>"
      ],
      "text/plain": [
       "       PCA Component 1  PCA Component 2  PCA Component 3  PCA Component 4  \\\n",
       "0             2.399713        -0.099691         1.043877         0.246222   \n",
       "1             0.981449        -1.023512         1.474494        -0.164535   \n",
       "2             0.639782         0.615698         0.083897        -0.258922   \n",
       "3             0.829157         0.559444        -0.258759        -0.361560   \n",
       "4            -0.027969         0.382054         0.181193        -0.579052   \n",
       "...                ...              ...              ...              ...   \n",
       "14995         0.512062        -0.229937         1.031827        -1.135168   \n",
       "14996        -0.795610         1.118923        -0.723470         0.235511   \n",
       "14997        -1.387056         0.743302         1.960027         2.773962   \n",
       "14998        -1.160667         2.359334         5.311600         9.574801   \n",
       "14999         0.937314         0.663470        -0.714688         0.304591   \n",
       "\n",
       "       PCA Component 5  \n",
       "0             0.566587  \n",
       "1            -0.482770  \n",
       "2            -0.369535  \n",
       "3             0.416992  \n",
       "4            -0.327126  \n",
       "...                ...  \n",
       "14995         0.779304  \n",
       "14996        -1.985075  \n",
       "14997        -0.735943  \n",
       "14998         8.489554  \n",
       "14999        -1.149136  \n",
       "\n",
       "[15000 rows x 5 columns]"
      ]
     },
     "metadata": {},
     "output_type": "display_data"
    }
   ],
   "source": [
    "# PCA Components based on normalized spectra\n",
    "\n",
    "# Standardizing and applying PCA using a pipeline\n",
    "from sklearn.decomposition import PCA\n",
    "from sklearn.pipeline import Pipeline\n",
    "\n",
    "pca_pipe = Pipeline([\n",
    "    ('scaler', StandardScaler()),\n",
    "    ('pca', PCA(n_components=5))])\n",
    "\n",
    "scaled_des_flux = pca_pipe.fit_transform(des_flux)\n",
    "result_pca = pca_pipe.fit_transform(scaled_des_flux)\n",
    "\n",
    "\n",
    "# Formatting them into columns in a df\n",
    "pca_col = ['PCA Component {}'.format(i+1) for i in range(result_pca.shape[1])]\n",
    "pca_df = pd.DataFrame(data=result_pca, columns=pca_col)\n",
    "\n",
    "display(pca_df)"
   ]
  },
  {
   "cell_type": "code",
   "execution_count": 5,
   "metadata": {},
   "outputs": [
    {
     "data": {
      "text/html": [
       "<div>\n",
       "<style scoped>\n",
       "    .dataframe tbody tr th:only-of-type {\n",
       "        vertical-align: middle;\n",
       "    }\n",
       "\n",
       "    .dataframe tbody tr th {\n",
       "        vertical-align: top;\n",
       "    }\n",
       "\n",
       "    .dataframe thead th {\n",
       "        text-align: right;\n",
       "    }\n",
       "</style>\n",
       "<table border=\"1\" class=\"dataframe\">\n",
       "  <thead>\n",
       "    <tr style=\"text-align: right;\">\n",
       "      <th></th>\n",
       "      <th>peak_heights</th>\n",
       "      <th>peak_pos</th>\n",
       "      <th>fwhm</th>\n",
       "      <th>peak prominences</th>\n",
       "      <th>auc</th>\n",
       "      <th>std</th>\n",
       "      <th>PCA Component 1</th>\n",
       "      <th>PCA Component 2</th>\n",
       "      <th>PCA Component 3</th>\n",
       "      <th>PCA Component 4</th>\n",
       "      <th>PCA Component 5</th>\n",
       "    </tr>\n",
       "  </thead>\n",
       "  <tbody>\n",
       "    <tr>\n",
       "      <th>0</th>\n",
       "      <td>1.104600e+19</td>\n",
       "      <td>139</td>\n",
       "      <td>62.925853</td>\n",
       "      <td>1.104600e+19</td>\n",
       "      <td>7.168618e+20</td>\n",
       "      <td>3.670862e+18</td>\n",
       "      <td>2.399713</td>\n",
       "      <td>-0.099691</td>\n",
       "      <td>1.043877</td>\n",
       "      <td>0.246222</td>\n",
       "      <td>0.566587</td>\n",
       "    </tr>\n",
       "    <tr>\n",
       "      <th>1</th>\n",
       "      <td>8.952698e+18</td>\n",
       "      <td>108</td>\n",
       "      <td>76.863979</td>\n",
       "      <td>8.952698e+18</td>\n",
       "      <td>6.980819e+20</td>\n",
       "      <td>3.100856e+18</td>\n",
       "      <td>0.981449</td>\n",
       "      <td>-1.023512</td>\n",
       "      <td>1.474494</td>\n",
       "      <td>-0.164535</td>\n",
       "      <td>-0.482770</td>\n",
       "    </tr>\n",
       "    <tr>\n",
       "      <th>2</th>\n",
       "      <td>6.449705e+18</td>\n",
       "      <td>135</td>\n",
       "      <td>118.976213</td>\n",
       "      <td>6.449705e+18</td>\n",
       "      <td>6.585460e+20</td>\n",
       "      <td>2.208307e+18</td>\n",
       "      <td>0.639782</td>\n",
       "      <td>0.615698</td>\n",
       "      <td>0.083897</td>\n",
       "      <td>-0.258922</td>\n",
       "      <td>-0.369535</td>\n",
       "    </tr>\n",
       "    <tr>\n",
       "      <th>3</th>\n",
       "      <td>6.255561e+18</td>\n",
       "      <td>150</td>\n",
       "      <td>99.830005</td>\n",
       "      <td>6.255561e+18</td>\n",
       "      <td>5.768126e+20</td>\n",
       "      <td>2.134721e+18</td>\n",
       "      <td>0.829157</td>\n",
       "      <td>0.559444</td>\n",
       "      <td>-0.258759</td>\n",
       "      <td>-0.361560</td>\n",
       "      <td>0.416992</td>\n",
       "    </tr>\n",
       "    <tr>\n",
       "      <th>4</th>\n",
       "      <td>3.924261e+18</td>\n",
       "      <td>109</td>\n",
       "      <td>155.580504</td>\n",
       "      <td>3.924261e+18</td>\n",
       "      <td>5.837127e+20</td>\n",
       "      <td>1.634831e+18</td>\n",
       "      <td>-0.027969</td>\n",
       "      <td>0.382054</td>\n",
       "      <td>0.181193</td>\n",
       "      <td>-0.579052</td>\n",
       "      <td>-0.327126</td>\n",
       "    </tr>\n",
       "    <tr>\n",
       "      <th>...</th>\n",
       "      <td>...</td>\n",
       "      <td>...</td>\n",
       "      <td>...</td>\n",
       "      <td>...</td>\n",
       "      <td>...</td>\n",
       "      <td>...</td>\n",
       "      <td>...</td>\n",
       "      <td>...</td>\n",
       "      <td>...</td>\n",
       "      <td>...</td>\n",
       "      <td>...</td>\n",
       "    </tr>\n",
       "    <tr>\n",
       "      <th>14995</th>\n",
       "      <td>5.871478e+18</td>\n",
       "      <td>121</td>\n",
       "      <td>70.829252</td>\n",
       "      <td>5.871478e+18</td>\n",
       "      <td>4.089573e+20</td>\n",
       "      <td>1.928194e+18</td>\n",
       "      <td>0.512062</td>\n",
       "      <td>-0.229937</td>\n",
       "      <td>1.031827</td>\n",
       "      <td>-1.135168</td>\n",
       "      <td>0.779304</td>\n",
       "    </tr>\n",
       "    <tr>\n",
       "      <th>14996</th>\n",
       "      <td>8.661125e+18</td>\n",
       "      <td>207</td>\n",
       "      <td>75.580094</td>\n",
       "      <td>8.661125e+18</td>\n",
       "      <td>8.404429e+20</td>\n",
       "      <td>2.822632e+18</td>\n",
       "      <td>-0.795610</td>\n",
       "      <td>1.118923</td>\n",
       "      <td>-0.723470</td>\n",
       "      <td>0.235511</td>\n",
       "      <td>-1.985075</td>\n",
       "    </tr>\n",
       "    <tr>\n",
       "      <th>14997</th>\n",
       "      <td>7.093851e+18</td>\n",
       "      <td>95</td>\n",
       "      <td>43.338462</td>\n",
       "      <td>7.093565e+18</td>\n",
       "      <td>9.985840e+20</td>\n",
       "      <td>2.359050e+18</td>\n",
       "      <td>-1.387056</td>\n",
       "      <td>0.743302</td>\n",
       "      <td>1.960027</td>\n",
       "      <td>2.773962</td>\n",
       "      <td>-0.735943</td>\n",
       "    </tr>\n",
       "    <tr>\n",
       "      <th>14998</th>\n",
       "      <td>7.871170e+18</td>\n",
       "      <td>242</td>\n",
       "      <td>122.573237</td>\n",
       "      <td>7.844419e+18</td>\n",
       "      <td>9.833929e+20</td>\n",
       "      <td>2.465215e+18</td>\n",
       "      <td>-1.160667</td>\n",
       "      <td>2.359334</td>\n",
       "      <td>5.311600</td>\n",
       "      <td>9.574801</td>\n",
       "      <td>8.489554</td>\n",
       "    </tr>\n",
       "    <tr>\n",
       "      <th>14999</th>\n",
       "      <td>8.160443e+18</td>\n",
       "      <td>187</td>\n",
       "      <td>120.227547</td>\n",
       "      <td>8.160443e+18</td>\n",
       "      <td>8.374144e+20</td>\n",
       "      <td>2.881918e+18</td>\n",
       "      <td>0.937314</td>\n",
       "      <td>0.663470</td>\n",
       "      <td>-0.714688</td>\n",
       "      <td>0.304591</td>\n",
       "      <td>-1.149136</td>\n",
       "    </tr>\n",
       "  </tbody>\n",
       "</table>\n",
       "<p>15000 rows × 11 columns</p>\n",
       "</div>"
      ],
      "text/plain": [
       "       peak_heights  peak_pos        fwhm  peak prominences           auc  \\\n",
       "0      1.104600e+19       139   62.925853      1.104600e+19  7.168618e+20   \n",
       "1      8.952698e+18       108   76.863979      8.952698e+18  6.980819e+20   \n",
       "2      6.449705e+18       135  118.976213      6.449705e+18  6.585460e+20   \n",
       "3      6.255561e+18       150   99.830005      6.255561e+18  5.768126e+20   \n",
       "4      3.924261e+18       109  155.580504      3.924261e+18  5.837127e+20   \n",
       "...             ...       ...         ...               ...           ...   \n",
       "14995  5.871478e+18       121   70.829252      5.871478e+18  4.089573e+20   \n",
       "14996  8.661125e+18       207   75.580094      8.661125e+18  8.404429e+20   \n",
       "14997  7.093851e+18        95   43.338462      7.093565e+18  9.985840e+20   \n",
       "14998  7.871170e+18       242  122.573237      7.844419e+18  9.833929e+20   \n",
       "14999  8.160443e+18       187  120.227547      8.160443e+18  8.374144e+20   \n",
       "\n",
       "                std  PCA Component 1  PCA Component 2  PCA Component 3  \\\n",
       "0      3.670862e+18         2.399713        -0.099691         1.043877   \n",
       "1      3.100856e+18         0.981449        -1.023512         1.474494   \n",
       "2      2.208307e+18         0.639782         0.615698         0.083897   \n",
       "3      2.134721e+18         0.829157         0.559444        -0.258759   \n",
       "4      1.634831e+18        -0.027969         0.382054         0.181193   \n",
       "...             ...              ...              ...              ...   \n",
       "14995  1.928194e+18         0.512062        -0.229937         1.031827   \n",
       "14996  2.822632e+18        -0.795610         1.118923        -0.723470   \n",
       "14997  2.359050e+18        -1.387056         0.743302         1.960027   \n",
       "14998  2.465215e+18        -1.160667         2.359334         5.311600   \n",
       "14999  2.881918e+18         0.937314         0.663470        -0.714688   \n",
       "\n",
       "       PCA Component 4  PCA Component 5  \n",
       "0             0.246222         0.566587  \n",
       "1            -0.164535        -0.482770  \n",
       "2            -0.258922        -0.369535  \n",
       "3            -0.361560         0.416992  \n",
       "4            -0.579052        -0.327126  \n",
       "...                ...              ...  \n",
       "14995        -1.135168         0.779304  \n",
       "14996         0.235511        -1.985075  \n",
       "14997         2.773962        -0.735943  \n",
       "14998         9.574801         8.489554  \n",
       "14999         0.304591        -1.149136  \n",
       "\n",
       "[15000 rows x 11 columns]"
      ]
     },
     "metadata": {},
     "output_type": "display_data"
    }
   ],
   "source": [
    "### Making the features matrix \n",
    "features_matrix = pd.DataFrame()\n",
    "features_matrix['peak_heights'] = peak_heights \n",
    "features_matrix['peak_pos'] = peak_positions\n",
    "features_matrix['fwhm'] = fwhm\n",
    "features_matrix['peak prominences'] = peak_prom\n",
    "features_matrix['auc'] = area_under_curves\n",
    "features_matrix['std'] = stdev\n",
    "features_matrix = pd.concat([features_matrix, pca_df],axis=1)\n",
    "display(features_matrix)"
   ]
  },
  {
   "cell_type": "markdown",
   "metadata": {},
   "source": [
    "##### Gaussian Fitting"
   ]
  },
  {
   "cell_type": "markdown",
   "metadata": {},
   "source": [
    "By Gaussian peak fitting to two peaks (the two most prominent spectroscopic peaks), similar to https://www.mdpi.com/1996-1944/13/23/5500, we can avoid generalizing to the global max. \n",
    "\n",
    "*The following curve fitting does not work, unfortunately. Please skip this section.* \n",
    "\n",
    "The fitted peaks would likely be its own training data set, since the fitted data will be similar to the raw data in format."
   ]
  },
  {
   "cell_type": "code",
   "execution_count": 65,
   "metadata": {},
   "outputs": [],
   "source": [
    "# Defining the gaussian function  \n",
    "from scipy.optimize import curve_fit\n",
    "\n",
    "def guass_params(y):\n",
    "    # peak 1\n",
    "    # parameters to calculate the gaussian\n",
    "    x = np.arange(len(y))\n",
    "    center = np.argmax(y)\n",
    "    y_peak1 = y[center - 60:center + 60]\n",
    "    stdev = np.std(y_peak1)\n",
    "    amp = max(y) - min(y)\n",
    "\n",
    "    indices, peak_dict = find_peaks(y, height=(None, None))\n",
    "    heights = peak_dict['peak_heights']\n",
    "\n",
    "    if len(indices) < 2:\n",
    "        return x, amp, center, stdev, 0, 0, 0  # returns zeroes if there is no 2nd peak found\n",
    "    # peak 2\n",
    "    sorted_peak_indices = np.argsort(peak_dict['peak_heights'])\n",
    "    center2 = indices[sorted_peak_indices[-2]]\n",
    "    y_peak2 = y[center2 - 60:center2 + 60]\n",
    "    stdev2 = np.std(y_peak2)\n",
    "    amp2 = heights[sorted_peak_indices[-2]] - min(y)\n",
    "    \n",
    "    return x, amp, center, stdev, amp2, center2, stdev2\n",
    "\n",
    "def gauss2(x, amp, center, stdev, amp2, center2, stdev2):\n",
    "    '''\n",
    "    Function for gaussian function to be used in Scipy.curve_fit.\n",
    "    Calculates fitting for overlapping peaks (the highest peak and \n",
    "    the second highest peak) by taking the sum of both gaussians.\n",
    "    '''\n",
    "    if amp2 == 0 and center2 == 0 and stdev2 == 0:\n",
    "        return amp * np.exp(-((x - center) ** 2) / (2 * stdev ** 2))\n",
    "    \n",
    "    return amp * np.exp(-((x - center) ** 2) / (2 * stdev ** 2))  + amp2 * np.exp(-((x - center2) ** 2) / (2 * stdev2 ** 2))\n",
    "\n",
    "def gauss_fit_curve(y, popt):\n",
    "    x = np.arange(len(y))\n",
    "    amp_opt, center_opt, stdev_opt, amp2_opt, center2_opt, stdev2_opt = popt\n",
    "    y_fit = gauss2(x, amp_opt, center_opt, stdev_opt, amp2_opt, center2_opt, stdev2_opt)\n",
    "    return y_fit.tolist()\n",
    "\n",
    "\n"
   ]
  },
  {
   "cell_type": "code",
   "execution_count": 75,
   "metadata": {},
   "outputs": [
    {
     "name": "stderr",
     "output_type": "stream",
     "text": [
      "/home/bbragado/.local/lib/python3.8/site-packages/scipy/optimize/_minpack_py.py:906: OptimizeWarning: Covariance of the parameters could not be estimated\n",
      "  warnings.warn('Covariance of the parameters could not be estimated',\n",
      "/home/bbragado/.local/lib/python3.8/site-packages/numpy/core/_methods.py:269: RuntimeWarning: Degrees of freedom <= 0 for slice\n",
      "  ret = _var(a, axis=axis, dtype=dtype, out=out, ddof=ddof,\n",
      "/home/bbragado/.local/lib/python3.8/site-packages/numpy/core/_methods.py:226: RuntimeWarning: invalid value encountered in divide\n",
      "  arrmean = um.true_divide(arrmean, div, out=arrmean,\n",
      "/home/bbragado/.local/lib/python3.8/site-packages/numpy/core/_methods.py:261: RuntimeWarning: invalid value encountered in scalar divide\n",
      "  ret = ret.dtype.type(ret / rcount)\n"
     ]
    },
    {
     "data": {
      "text/plain": [
       "[<matplotlib.lines.Line2D at 0x1554f5dfd130>]"
      ]
     },
     "execution_count": 75,
     "metadata": {},
     "output_type": "execute_result"
    },
    {
     "data": {
      "image/png": "[encoded data removed]",
      "text/plain": [
       "<Figure size 432x288 with 1 Axes>"
      ]
     },
     "metadata": {
      "needs_background": "light"
     },
     "output_type": "display_data"
    }
   ],
   "source": [
    "import matplotlib.pyplot as plt\n",
    "y_fit = [] # storing the fitted data to use as an option for training data \n",
    "for i in des_flux:\n",
    "    x, amp, center, stdev, amp2, center2, stdev2 = guass_params(i)\n",
    "    temps = np.linspace(300,1200,301)\n",
    "    popt, _ = curve_fit(gauss2, temps, i,p0=((4.0E18, 600, 1.5E18, 1E18, 900, 2.0E18))) # added random guesses to avoid \n",
    "    \n",
    "    fitted = gauss_fit_curve(i,popt)\n",
    "    y_fit.append(fitted)\n",
    "plt.plot(temps, des_flux[6], 'r',label='Training Data') \n",
    "plt.plot(temps, y_fit[6], 'b',label='Fitted Curve')\n",
    "\n",
    "# Produces curves that are straight lines :("
   ]
  },
  {
   "cell_type": "markdown",
   "metadata": {
    "id": "XG8TOssopnR9"
   },
   "source": [
    "### Raw 0.3K/s, 15K dataset (Smoothed)"
   ]
  },
  {
   "cell_type": "code",
   "execution_count": 6,
   "metadata": {},
   "outputs": [
    {
     "name": "stdout",
     "output_type": "stream",
     "text": [
      "(13500, 301)\n",
      "(1500, 301)\n"
     ]
    }
   ],
   "source": [
    "### Preparing the raw data\n",
    "from sklearn.decomposition import PCA\n",
    "from sklearn.pipeline import Pipeline\n",
    "from sklearn.ensemble import RandomForestRegressor\n",
    "\n",
    "\n",
    "# Split the data into train and test sets\n",
    "X_train, X_test= train_test_split(des_flux, test_size=0.1, random_state=42)\n",
    "y_train_raw, y_test_raw = train_test_split(def_param, test_size=0.1, random_state=42)\n",
    "\n",
    "# Normalize the data using StandardScaler \n",
    "scaler = StandardScaler(with_mean=True, with_std=True)\n",
    "X_train_norm = scaler.fit_transform(np.array(X_train).reshape(-1, num_datapts)) # Change lists into array\n",
    "X_test_norm = scaler.transform(np.array(X_test).reshape(-1, num_datapts))\n",
    "\n",
    "X_train_transform_raw = np.reshape(X_train_norm, (X_train_norm.shape[0], -1))\n",
    "X_test_transform_raw = np.reshape(X_test_norm, (X_test_norm.shape[0], -1))\n",
    "\n",
    "print(X_train_transform_raw.shape)\n",
    "print(X_test_transform_raw.shape)\n",
    "\n"
   ]
  },
  {
   "cell_type": "markdown",
   "metadata": {},
   "source": [
    "##### Hyperparameter search"
   ]
  },
  {
   "cell_type": "markdown",
   "metadata": {},
   "source": [
    "Instead of using sklearn's hyperparameter tuning, we can perform hyperparameter optimization using based on the Bayes Theorem. Using the `hyperopt` package for hyperparameter optimization, comparable loss scores and better performance time compared to `GridSearchCV` has been achieved:\n",
    "https://doi.org/10.11989/JEST.1674-862X.80904120\n",
    "http://jmlr.org/proceedings/papers/v28/bergstra13.html\n",
    "\n",
    "Documentation: http://hyperopt.github.io/hyperopt/\n",
    "\n",
    "Parameter searching in `hyperopt` has a high level of customization. For example, defining the parameter grid can be done using two methods:\n",
    "- `hp.choice`: Analogous to RandomizedSearchCV from sk-learn, randomly selects from a search space. \n",
    "- `hp.randint`: Analogous to GridSearchCV, iteratively and exhaustively searches within a range. "
   ]
  },
  {
   "cell_type": "code",
   "execution_count": 7,
   "metadata": {},
   "outputs": [],
   "source": [
    "#pip install hyperopt"
   ]
  },
  {
   "cell_type": "code",
   "execution_count": 7,
   "metadata": {},
   "outputs": [],
   "source": [
    "from sklearn.model_selection import cross_val_score\n",
    "from hyperopt import fmin, tpe, hp, Trials, space_eval\n",
    "from sklearn.metrics import mean_squared_error\n",
    "\n",
    "# Function to be optimized (check the hyperopt doc)\n",
    "def objective(params):\n",
    "    rfr = RandomForestRegressor(**params,random_state=42)\n",
    "    scores = cross_val_score(rfr, X_train_transform_raw, y_train_raw, cv=5, scoring='neg_mean_squared_error')\n",
    "    mse = -scores.mean()\n",
    "\n",
    "    return mse\n",
    "\n",
    "# Define param grid\n",
    "space = {\n",
    "    'n_estimators': hp.randint('n_estimators', 100, 201),\n",
    "    'max_depth': hp.randint('max_depth', 1, 15),\n",
    "    'min_samples_leaf': hp.choice('min_samples_leaf', range(1, 20)),\n",
    "    'max_features': hp.choice('max_features', [\"sqrt\", \"log2\"])}"
   ]
  },
  {
   "cell_type": "code",
   "execution_count": 9,
   "metadata": {},
   "outputs": [
    {
     "name": "stdout",
     "output_type": "stream",
     "text": [
      "100%|██████████| 100/100 [1:29:51<00:00, 53.92s/trial, best loss: 0.053124339306741444]\n",
      "Best Parameters: {'max_depth': 13, 'max_features': 'sqrt', 'min_samples_leaf': 4, 'n_estimators': 188}\n",
      "Best Score: 0.053124339306741444\n",
      "CPU times: user 1h 29min 22s, sys: 2.43 s, total: 1h 29min 25s\n",
      "Wall time: 1h 29min 51s\n"
     ]
    }
   ],
   "source": [
    "%%time\n",
    "# Bayesian Optimization using the TPE algorithm `tpe` \n",
    "# TPE is sequential-based and balances \"explore vs exploit\" when \n",
    "# searching for hyperparameters: \n",
    "\n",
    "trials = Trials()\n",
    "best = fmin(objective, space, algo=tpe.suggest, max_evals=100, trials=trials)\n",
    "\n",
    "# best hyperparameters and best score\n",
    "best_params = space_eval(space, best)\n",
    "best_score = min(trials.losses())\n",
    "\n",
    "print(\"Best Parameters:\", best_params)\n",
    "print(\"Best Score:\", best_score)"
   ]
  },
  {
   "cell_type": "code",
   "execution_count": 9,
   "metadata": {
    "id": "4VyBQHkkULxG"
   },
   "outputs": [],
   "source": [
    "### Non-transformed trial:\n",
    "# 100%|██████████| 100/100 [47:14<00:00, 28.35s/trial, best loss: 0.003159586913488544]\n",
    "# Best Parameters: {'max_depth': 18, 'max_features': 'sqrt', 'n_estimators': 267}\n",
    "# Best Score: 0.003159586913488544\n",
    "# CPU times: user 47min 4s, sys: 2.93 s, total: 47min 7s\n",
    "# Wall time: 47min 15s\n",
    "\n",
    "# Performing a log transformation on the target variables increases loss error by a factor of 10"
   ]
  },
  {
   "cell_type": "code",
   "execution_count": 8,
   "metadata": {},
   "outputs": [
    {
     "name": "stdout",
     "output_type": "stream",
     "text": [
      "0.053702255199391036\n"
     ]
    }
   ],
   "source": [
    "### Predicting Parameters\n",
    "\n",
    "# Saving the best_params without having to rerun the search (most recent run)\n",
    "best_params = {\n",
    "    'n_estimators': 188,\n",
    "    'max_depth': 13,\n",
    "    'min_samples_leaf': 4,\n",
    "    'max_features': 'sqrt'}\n",
    "\n",
    "rfr_best_raw = RandomForestRegressor(**best_params, random_state=42)\n",
    "rfr_best_raw.fit(X_train_transform_raw, y_train_raw)\n",
    "\n",
    "y_pred_raw = rfr_best_raw.predict(X_test_transform_raw)\n",
    "\n",
    "mse = mean_squared_error(y_test_raw, y_pred_raw)\n",
    "print(mse)\n"
   ]
  },
  {
   "cell_type": "markdown",
   "metadata": {
    "id": "eZtYaBdqpYsa"
   },
   "source": [
    "### Features Model"
   ]
  },
  {
   "cell_type": "code",
   "execution_count": 9,
   "metadata": {},
   "outputs": [],
   "source": [
    "### Preparing the featurized data\n",
    "\n",
    "from sklearn.decomposition import PCA\n",
    "from sklearn.pipeline import Pipeline\n",
    "from sklearn.ensemble import RandomForestRegressor\n",
    "\n",
    "\n",
    "# Split the data into train and test sets\n",
    "X_train, X_test= train_test_split(features_matrix, test_size=0.1, random_state=42)\n",
    "y_train_feat, y_test_feat = train_test_split(def_param, test_size=0.1, random_state=42)\n",
    "\n",
    "# Normalize the data using StandardScaler\n",
    "scaler = StandardScaler(with_mean=True, with_std=True)\n",
    "X_train_norm_feat = scaler.fit_transform(X_train)\n",
    "X_test_norm_feat = scaler.transform(X_test)\n",
    "\n",
    "# print(X_train_norm_feat.shape)\n",
    "# print(X_test_norm_feat.shape)"
   ]
  },
  {
   "cell_type": "code",
   "execution_count": 10,
   "metadata": {
    "id": "niSsr5ZCULxH"
   },
   "outputs": [],
   "source": [
    "from sklearn.model_selection import cross_val_score\n",
    "from hyperopt import fmin, tpe, hp, Trials, space_eval\n",
    "from sklearn.metrics import mean_squared_error\n",
    "\n",
    "def objective(params):\n",
    "    rfr = RandomForestRegressor(**params,random_state=42)\n",
    "    scores = cross_val_score(rfr, X_train_norm_feat, y_train_feat, cv=5, scoring='neg_mean_squared_error')\n",
    "    mse = -scores.mean()\n",
    "\n",
    "    return mse\n",
    "\n",
    "# Define param grid\n",
    "space = {\n",
    "    'n_estimators': hp.randint('n_estimators', 100, 200),\n",
    "    'max_depth': hp.randint('max_depth', 1, 15),\n",
    "    'min_samples_leaf': hp.choice('min_samples_leaf', range(1, 20)),\n",
    "    'max_features': hp.choice('max_features', [\"sqrt\", \"log2\"])}"
   ]
  },
  {
   "cell_type": "code",
   "execution_count": 10,
   "metadata": {
    "id": "prI93ZEMULxI"
   },
   "outputs": [
    {
     "name": "stdout",
     "output_type": "stream",
     "text": [
      "100%|██████████| 100/100 [23:11<00:00, 13.91s/trial, best loss: 0.0589403962615877]\n",
      "Best Parameters: {'max_depth': 12, 'max_features': 'sqrt', 'min_samples_leaf': 7, 'n_estimators': 193}\n",
      "Best Score: 0.0589403962615877\n",
      "CPU times: user 23min 3s, sys: 873 ms, total: 23min 4s\n",
      "Wall time: 23min 11s\n"
     ]
    }
   ],
   "source": [
    "%%time\n",
    "# searching for hyperparameters: \n",
    "trials = Trials()\n",
    "best = fmin(objective, space, algo=tpe.suggest, max_evals=100, trials=trials)\n",
    "\n",
    "# best hyperparameters and best score\n",
    "best_params = space_eval(space, best)\n",
    "best_score = min(trials.losses())\n",
    "\n",
    "print(\"Best Parameters:\", best_params)\n",
    "print(\"Best Score:\", best_score)"
   ]
  },
  {
   "cell_type": "code",
   "execution_count": null,
   "metadata": {},
   "outputs": [],
   "source": [
    "# Non log-transformed training using only hp.choice:\n",
    "# 100%|██████████| 100/100 [15:19<00:00,  9.19s/trial, best loss: 0.004580962113038334]\n",
    "# Best Parameters: {'max_depth': 25, 'max_features': 'sqrt', 'n_estimators': 387}\n",
    "# Best Score: 0.004580962113038334\n",
    "# CPU times: user 15min 8s, sys: 8.78 s, total: 15min 16s\n",
    "# Wall time: 15min 19s\n"
   ]
  },
  {
   "cell_type": "code",
   "execution_count": 11,
   "metadata": {
    "colab": {
     "base_uri": "https://localhost:8080/"
    },
    "id": "ac-eFyMxULxI",
    "outputId": "b1c42068-29b4-4411-97c7-4f27b2acc8e7"
   },
   "outputs": [
    {
     "name": "stdout",
     "output_type": "stream",
     "text": [
      "0.05978427581507492\n"
     ]
    }
   ],
   "source": [
    "### Predicting Parameters\n",
    "# Saving the best_params without having to rerun the search (most recent run)\n",
    "best_params = {\n",
    "    'n_estimators': 193,\n",
    "    'max_depth': 12,\n",
    "    'min_samples_leaf': 7,\n",
    "    'max_features': 'sqrt'}\n",
    "\n",
    "rfr_best_feat = RandomForestRegressor(**best_params, random_state=42)\n",
    "rfr_best_feat.fit(X_train_norm_feat, y_train_feat)\n",
    "\n",
    "y_pred_feat = rfr_best_feat.predict(X_test_norm_feat)\n",
    "\n",
    "mse = mean_squared_error(y_test_feat, y_pred_feat)\n",
    "print(mse)\n"
   ]
  },
  {
   "cell_type": "markdown",
   "metadata": {},
   "source": [
    "##### Feature Importances"
   ]
  },
  {
   "cell_type": "code",
   "execution_count": 22,
   "metadata": {},
   "outputs": [
    {
     "data": {
      "image/png": "[encoded data removed]",
      "text/plain": [
       "<Figure size 432x288 with 1 Axes>"
      ]
     },
     "metadata": {
      "needs_background": "light"
     },
     "output_type": "display_data"
    }
   ],
   "source": [
    "import matplotlib.pyplot as plt\n",
    "importances = rfr_best_feat.feature_importances_\n",
    "feat_names = features_matrix.columns\n",
    "\n",
    "sort_ind = np.argsort(importances)[::-1]\n",
    "sort_imp = importances[sort_ind]\n",
    "sort_names = feat_names[sort_ind]\n",
    "\n",
    "# Plotting feature importances\n",
    "plt.bar(sort_imp,range(len(sort_imp)))\n",
    "plt.yticks(range(len(sort_imp)), sort_names)\n",
    "plt.xlabel('Importance')\n",
    "plt.ylabel('Features')\n",
    "plt.xlim(0, 0.7)\n",
    "plt.show()"
   ]
  },
  {
   "cell_type": "markdown",
   "metadata": {},
   "source": [
    "##### Model Blending"
   ]
  },
  {
   "cell_type": "code",
   "execution_count": 23,
   "metadata": {},
   "outputs": [
    {
     "name": "stdout",
     "output_type": "stream",
     "text": [
      "0.05553297994371118\n"
     ]
    }
   ],
   "source": [
    "# Combining the predictions by averaging them. \n",
    "# There are other methods for model blending/stacking but\n",
    "# for now, let's take the averages.\n",
    "combined_pred = (y_pred_feat + y_pred_raw) / 2\n",
    "mse = mean_squared_error(y_test_raw, combined_pred)\n",
    "print(mse)"
   ]
  },
  {
   "cell_type": "markdown",
   "metadata": {},
   "source": [
    "##### Plotting Predictions"
   ]
  },
  {
   "cell_type": "code",
   "execution_count": 53,
   "metadata": {},
   "outputs": [
    {
     "data": {
      "image/png": "[encoded data removed]",
      "text/plain": [
       "<Figure size 1080x360 with 3 Axes>"
      ]
     },
     "metadata": {
      "needs_background": "light"
     },
     "output_type": "display_data"
    }
   ],
   "source": [
    "def plot_pred(y_test, y_pred, title):\n",
    "    y_test = 10 ** y_test\n",
    "    y_pred = 10 ** y_pred   \n",
    "    fig, (ax1, ax2, ax3) = plt.subplots(1, 3, figsize=(15, 5))\n",
    "    \n",
    "    ax1.scatter(y_test, y_pred)\n",
    "    ax1.plot([0, 2], [0, 2], 'r', '-')\n",
    "    ax1.set_xlabel('Actual')\n",
    "    ax1.set_ylabel('Predicted')\n",
    "    ax1.set_title(title)\n",
    "    \n",
    "    ax2.scatter(y_test, y_pred)\n",
    "    ax2.plot([0, 0.025], [0, 0.025], 'r', '-')\n",
    "    ax2.set_xlabel('Actual')\n",
    "    ax2.set_ylabel('Predicted')\n",
    "    ax2.set_xlim(0, 0.025)\n",
    "    ax2.set_ylim(0, 0.025)\n",
    "    ax2.set_title('Defect Concentrations')\n",
    "\n",
    "    ax3.scatter(y_test, y_pred)\n",
    "    ax3.plot([1, 2], [1, 2], 'r', '-')\n",
    "    ax3.set_xlabel('Actual')\n",
    "    ax3.set_ylabel('Predicted')\n",
    "    ax3.set_title('Detrapping Energies')\n",
    "    ax3.set_xlim(1, 2)\n",
    "    ax3.set_ylim(1, 2)\n",
    "\n",
    "plot_pred(y_test_raw,y_pred_raw, 'Raw Predictions')  "
   ]
  },
  {
   "cell_type": "code",
   "execution_count": 54,
   "metadata": {},
   "outputs": [
    {
     "data": {
      "image/png": "[encoded data removed]",
      "text/plain": [
       "<Figure size 1080x360 with 3 Axes>"
      ]
     },
     "metadata": {
      "needs_background": "light"
     },
     "output_type": "display_data"
    }
   ],
   "source": [
    "plot_pred(y_test_feat,y_pred_feat, 'Featurized Predictions')  "
   ]
  },
  {
   "cell_type": "code",
   "execution_count": 55,
   "metadata": {},
   "outputs": [
    {
     "data": {
      "image/png": "[encoded data removed]",
      "text/plain": [
       "<Figure size 1080x360 with 3 Axes>"
      ]
     },
     "metadata": {
      "needs_background": "light"
     },
     "output_type": "display_data"
    }
   ],
   "source": [
    "plot_pred(y_pred_raw,combined_pred,'Combined Predictions')"
   ]
  },
  {
   "cell_type": "markdown",
   "metadata": {},
   "source": [
    "### Predicting Based on the Ground Truth"
   ]
  },
  {
   "cell_type": "code",
   "execution_count": null,
   "metadata": {},
   "outputs": [],
   "source": [
    "#pip install spectrapepper"
   ]
  },
  {
   "cell_type": "code",
   "execution_count": 56,
   "metadata": {},
   "outputs": [
    {
     "data": {
      "text/plain": [
       "902"
      ]
     },
     "metadata": {},
     "output_type": "display_data"
    }
   ],
   "source": [
    "import spectrapepper as spep\n",
    "from scipy import signal\n",
    "from pathlib import Path\n",
    "import os\n",
    "import pandas as pd\n",
    "import numpy as np\n",
    "import matplotlib.pyplot as plt\n",
    "\n",
    "# Loading ground truth data into a dataframe\n",
    "folder_path = './Ground Truth Smoothed'\n",
    "data = {}\n",
    "for filename in os.listdir(folder_path):\n",
    "    file_path = os.path.join(folder_path, filename)\n",
    "    if os.path.isfile(file_path) and file_path.endswith('.csv'):\n",
    "        with open(file_path, 'r') as file:\n",
    "            expt_df = pd.read_csv(file_path, header=None, names=['K', 'des_flux'], index_col=None, squeeze = True)\n",
    "            expt_tds = expt_df.iloc[:, 1].values\n",
    "            expt_datapts = len(expt_df[\"des_flux\"])\n",
    "            data[filename] = expt_df    \n",
    "\n",
    "df = pd.concat(data.values())\n",
    "\n",
    "\n",
    "expt_des_flux=df['des_flux']\n",
    "expt_des_flux=expt_des_flux.tolist()\n",
    "expt_files=int(len(expt_des_flux)/expt_datapts) \n",
    "expt_des_flux=np.reshape(expt_des_flux, [expt_files, expt_datapts])\n",
    "\n",
    "display(len(expt_des_flux[1]))\n"
   ]
  },
  {
   "cell_type": "markdown",
   "metadata": {},
   "source": [
    "##### GT Raw predictions"
   ]
  },
  {
   "cell_type": "code",
   "execution_count": 57,
   "metadata": {},
   "outputs": [
    {
     "data": {
      "text/plain": [
       "'Ground Truth 1:'"
      ]
     },
     "metadata": {},
     "output_type": "display_data"
    },
    {
     "data": {
      "text/html": [
       "<div>\n",
       "<style scoped>\n",
       "    .dataframe tbody tr th:only-of-type {\n",
       "        vertical-align: middle;\n",
       "    }\n",
       "\n",
       "    .dataframe tbody tr th {\n",
       "        vertical-align: top;\n",
       "    }\n",
       "\n",
       "    .dataframe thead th {\n",
       "        text-align: right;\n",
       "    }\n",
       "</style>\n",
       "<table border=\"1\" class=\"dataframe\">\n",
       "  <thead>\n",
       "    <tr style=\"text-align: right;\">\n",
       "      <th></th>\n",
       "      <th>detrap_en</th>\n",
       "      <th>defect_con</th>\n",
       "    </tr>\n",
       "  </thead>\n",
       "  <tbody>\n",
       "    <tr>\n",
       "      <th>0</th>\n",
       "      <td>1.118635</td>\n",
       "      <td>0.002003</td>\n",
       "    </tr>\n",
       "    <tr>\n",
       "      <th>1</th>\n",
       "      <td>1.366535</td>\n",
       "      <td>0.001823</td>\n",
       "    </tr>\n",
       "    <tr>\n",
       "      <th>2</th>\n",
       "      <td>1.544961</td>\n",
       "      <td>0.001473</td>\n",
       "    </tr>\n",
       "    <tr>\n",
       "      <th>3</th>\n",
       "      <td>1.767930</td>\n",
       "      <td>0.001214</td>\n",
       "    </tr>\n",
       "  </tbody>\n",
       "</table>\n",
       "</div>"
      ],
      "text/plain": [
       "   detrap_en  defect_con\n",
       "0   1.118635    0.002003\n",
       "1   1.366535    0.001823\n",
       "2   1.544961    0.001473\n",
       "3   1.767930    0.001214"
      ]
     },
     "metadata": {},
     "output_type": "display_data"
    },
    {
     "name": "stdout",
     "output_type": "stream",
     "text": [
      "152 4.764666666666666e+16\n"
     ]
    },
    {
     "data": {
      "text/plain": [
       "'Ground Truth 2:'"
      ]
     },
     "metadata": {},
     "output_type": "display_data"
    },
    {
     "data": {
      "text/html": [
       "<div>\n",
       "<style scoped>\n",
       "    .dataframe tbody tr th:only-of-type {\n",
       "        vertical-align: middle;\n",
       "    }\n",
       "\n",
       "    .dataframe tbody tr th {\n",
       "        vertical-align: top;\n",
       "    }\n",
       "\n",
       "    .dataframe thead th {\n",
       "        text-align: right;\n",
       "    }\n",
       "</style>\n",
       "<table border=\"1\" class=\"dataframe\">\n",
       "  <thead>\n",
       "    <tr style=\"text-align: right;\">\n",
       "      <th></th>\n",
       "      <th>detrap_en</th>\n",
       "      <th>defect_con</th>\n",
       "    </tr>\n",
       "  </thead>\n",
       "  <tbody>\n",
       "    <tr>\n",
       "      <th>0</th>\n",
       "      <td>1.124941</td>\n",
       "      <td>0.001979</td>\n",
       "    </tr>\n",
       "    <tr>\n",
       "      <th>1</th>\n",
       "      <td>1.371263</td>\n",
       "      <td>0.001832</td>\n",
       "    </tr>\n",
       "    <tr>\n",
       "      <th>2</th>\n",
       "      <td>1.550385</td>\n",
       "      <td>0.001473</td>\n",
       "    </tr>\n",
       "    <tr>\n",
       "      <th>3</th>\n",
       "      <td>1.771399</td>\n",
       "      <td>0.001203</td>\n",
       "    </tr>\n",
       "  </tbody>\n",
       "</table>\n",
       "</div>"
      ],
      "text/plain": [
       "   detrap_en  defect_con\n",
       "0   1.124941    0.001979\n",
       "1   1.371263    0.001832\n",
       "2   1.550385    0.001473\n",
       "3   1.771399    0.001203"
      ]
     },
     "metadata": {},
     "output_type": "display_data"
    },
    {
     "name": "stdout",
     "output_type": "stream",
     "text": [
      "183 4.198666666666667e+17\n"
     ]
    },
    {
     "data": {
      "text/plain": [
       "'Ground Truth 3:'"
      ]
     },
     "metadata": {},
     "output_type": "display_data"
    },
    {
     "data": {
      "text/html": [
       "<div>\n",
       "<style scoped>\n",
       "    .dataframe tbody tr th:only-of-type {\n",
       "        vertical-align: middle;\n",
       "    }\n",
       "\n",
       "    .dataframe tbody tr th {\n",
       "        vertical-align: top;\n",
       "    }\n",
       "\n",
       "    .dataframe thead th {\n",
       "        text-align: right;\n",
       "    }\n",
       "</style>\n",
       "<table border=\"1\" class=\"dataframe\">\n",
       "  <thead>\n",
       "    <tr style=\"text-align: right;\">\n",
       "      <th></th>\n",
       "      <th>detrap_en</th>\n",
       "      <th>defect_con</th>\n",
       "    </tr>\n",
       "  </thead>\n",
       "  <tbody>\n",
       "    <tr>\n",
       "      <th>0</th>\n",
       "      <td>1.116161</td>\n",
       "      <td>0.001956</td>\n",
       "    </tr>\n",
       "    <tr>\n",
       "      <th>1</th>\n",
       "      <td>1.364201</td>\n",
       "      <td>0.001738</td>\n",
       "    </tr>\n",
       "    <tr>\n",
       "      <th>2</th>\n",
       "      <td>1.546452</td>\n",
       "      <td>0.001429</td>\n",
       "    </tr>\n",
       "    <tr>\n",
       "      <th>3</th>\n",
       "      <td>1.767737</td>\n",
       "      <td>0.001260</td>\n",
       "    </tr>\n",
       "  </tbody>\n",
       "</table>\n",
       "</div>"
      ],
      "text/plain": [
       "   detrap_en  defect_con\n",
       "0   1.116161    0.001956\n",
       "1   1.364201    0.001738\n",
       "2   1.546452    0.001429\n",
       "3   1.767737    0.001260"
      ]
     },
     "metadata": {},
     "output_type": "display_data"
    },
    {
     "name": "stdout",
     "output_type": "stream",
     "text": [
      "188 1.684e+17\n"
     ]
    },
    {
     "data": {
      "text/plain": [
       "'Ground Truth 4:'"
      ]
     },
     "metadata": {},
     "output_type": "display_data"
    },
    {
     "data": {
      "text/html": [
       "<div>\n",
       "<style scoped>\n",
       "    .dataframe tbody tr th:only-of-type {\n",
       "        vertical-align: middle;\n",
       "    }\n",
       "\n",
       "    .dataframe tbody tr th {\n",
       "        vertical-align: top;\n",
       "    }\n",
       "\n",
       "    .dataframe thead th {\n",
       "        text-align: right;\n",
       "    }\n",
       "</style>\n",
       "<table border=\"1\" class=\"dataframe\">\n",
       "  <thead>\n",
       "    <tr style=\"text-align: right;\">\n",
       "      <th></th>\n",
       "      <th>detrap_en</th>\n",
       "      <th>defect_con</th>\n",
       "    </tr>\n",
       "  </thead>\n",
       "  <tbody>\n",
       "    <tr>\n",
       "      <th>0</th>\n",
       "      <td>1.120283</td>\n",
       "      <td>0.001947</td>\n",
       "    </tr>\n",
       "    <tr>\n",
       "      <th>1</th>\n",
       "      <td>1.366515</td>\n",
       "      <td>0.001818</td>\n",
       "    </tr>\n",
       "    <tr>\n",
       "      <th>2</th>\n",
       "      <td>1.545915</td>\n",
       "      <td>0.001485</td>\n",
       "    </tr>\n",
       "    <tr>\n",
       "      <th>3</th>\n",
       "      <td>1.767525</td>\n",
       "      <td>0.001208</td>\n",
       "    </tr>\n",
       "  </tbody>\n",
       "</table>\n",
       "</div>"
      ],
      "text/plain": [
       "   detrap_en  defect_con\n",
       "0   1.120283    0.001947\n",
       "1   1.366515    0.001818\n",
       "2   1.545915    0.001485\n",
       "3   1.767525    0.001208"
      ]
     },
     "metadata": {},
     "output_type": "display_data"
    },
    {
     "name": "stdout",
     "output_type": "stream",
     "text": [
      "192 3.017333333333333e+17\n"
     ]
    },
    {
     "data": {
      "text/plain": [
       "'Ground Truth 5:'"
      ]
     },
     "metadata": {},
     "output_type": "display_data"
    },
    {
     "data": {
      "text/html": [
       "<div>\n",
       "<style scoped>\n",
       "    .dataframe tbody tr th:only-of-type {\n",
       "        vertical-align: middle;\n",
       "    }\n",
       "\n",
       "    .dataframe tbody tr th {\n",
       "        vertical-align: top;\n",
       "    }\n",
       "\n",
       "    .dataframe thead th {\n",
       "        text-align: right;\n",
       "    }\n",
       "</style>\n",
       "<table border=\"1\" class=\"dataframe\">\n",
       "  <thead>\n",
       "    <tr style=\"text-align: right;\">\n",
       "      <th></th>\n",
       "      <th>detrap_en</th>\n",
       "      <th>defect_con</th>\n",
       "    </tr>\n",
       "  </thead>\n",
       "  <tbody>\n",
       "    <tr>\n",
       "      <th>0</th>\n",
       "      <td>1.124362</td>\n",
       "      <td>0.002035</td>\n",
       "    </tr>\n",
       "    <tr>\n",
       "      <th>1</th>\n",
       "      <td>1.366780</td>\n",
       "      <td>0.001830</td>\n",
       "    </tr>\n",
       "    <tr>\n",
       "      <th>2</th>\n",
       "      <td>1.545369</td>\n",
       "      <td>0.001470</td>\n",
       "    </tr>\n",
       "    <tr>\n",
       "      <th>3</th>\n",
       "      <td>1.767260</td>\n",
       "      <td>0.001207</td>\n",
       "    </tr>\n",
       "  </tbody>\n",
       "</table>\n",
       "</div>"
      ],
      "text/plain": [
       "   detrap_en  defect_con\n",
       "0   1.124362    0.002035\n",
       "1   1.366780    0.001830\n",
       "2   1.545369    0.001470\n",
       "3   1.767260    0.001207"
      ]
     },
     "metadata": {},
     "output_type": "display_data"
    },
    {
     "name": "stdout",
     "output_type": "stream",
     "text": [
      "194 2.658e+17\n"
     ]
    },
    {
     "data": {
      "text/plain": [
       "'Ground Truth 6:'"
      ]
     },
     "metadata": {},
     "output_type": "display_data"
    },
    {
     "data": {
      "text/html": [
       "<div>\n",
       "<style scoped>\n",
       "    .dataframe tbody tr th:only-of-type {\n",
       "        vertical-align: middle;\n",
       "    }\n",
       "\n",
       "    .dataframe tbody tr th {\n",
       "        vertical-align: top;\n",
       "    }\n",
       "\n",
       "    .dataframe thead th {\n",
       "        text-align: right;\n",
       "    }\n",
       "</style>\n",
       "<table border=\"1\" class=\"dataframe\">\n",
       "  <thead>\n",
       "    <tr style=\"text-align: right;\">\n",
       "      <th></th>\n",
       "      <th>detrap_en</th>\n",
       "      <th>defect_con</th>\n",
       "    </tr>\n",
       "  </thead>\n",
       "  <tbody>\n",
       "    <tr>\n",
       "      <th>0</th>\n",
       "      <td>1.114640</td>\n",
       "      <td>0.002003</td>\n",
       "    </tr>\n",
       "    <tr>\n",
       "      <th>1</th>\n",
       "      <td>1.363277</td>\n",
       "      <td>0.001764</td>\n",
       "    </tr>\n",
       "    <tr>\n",
       "      <th>2</th>\n",
       "      <td>1.544271</td>\n",
       "      <td>0.001450</td>\n",
       "    </tr>\n",
       "    <tr>\n",
       "      <th>3</th>\n",
       "      <td>1.766625</td>\n",
       "      <td>0.001241</td>\n",
       "    </tr>\n",
       "  </tbody>\n",
       "</table>\n",
       "</div>"
      ],
      "text/plain": [
       "   detrap_en  defect_con\n",
       "0   1.114640    0.002003\n",
       "1   1.363277    0.001764\n",
       "2   1.544271    0.001450\n",
       "3   1.766625    0.001241"
      ]
     },
     "metadata": {},
     "output_type": "display_data"
    },
    {
     "name": "stdout",
     "output_type": "stream",
     "text": [
      "183 2.367333333333333e+17\n"
     ]
    },
    {
     "data": {
      "text/plain": [
       "'Ground Truth 7:'"
      ]
     },
     "metadata": {},
     "output_type": "display_data"
    },
    {
     "data": {
      "text/html": [
       "<div>\n",
       "<style scoped>\n",
       "    .dataframe tbody tr th:only-of-type {\n",
       "        vertical-align: middle;\n",
       "    }\n",
       "\n",
       "    .dataframe tbody tr th {\n",
       "        vertical-align: top;\n",
       "    }\n",
       "\n",
       "    .dataframe thead th {\n",
       "        text-align: right;\n",
       "    }\n",
       "</style>\n",
       "<table border=\"1\" class=\"dataframe\">\n",
       "  <thead>\n",
       "    <tr style=\"text-align: right;\">\n",
       "      <th></th>\n",
       "      <th>detrap_en</th>\n",
       "      <th>defect_con</th>\n",
       "    </tr>\n",
       "  </thead>\n",
       "  <tbody>\n",
       "    <tr>\n",
       "      <th>0</th>\n",
       "      <td>1.136385</td>\n",
       "      <td>0.002080</td>\n",
       "    </tr>\n",
       "    <tr>\n",
       "      <th>1</th>\n",
       "      <td>1.379246</td>\n",
       "      <td>0.001858</td>\n",
       "    </tr>\n",
       "    <tr>\n",
       "      <th>2</th>\n",
       "      <td>1.556473</td>\n",
       "      <td>0.001447</td>\n",
       "    </tr>\n",
       "    <tr>\n",
       "      <th>3</th>\n",
       "      <td>1.774871</td>\n",
       "      <td>0.001180</td>\n",
       "    </tr>\n",
       "  </tbody>\n",
       "</table>\n",
       "</div>"
      ],
      "text/plain": [
       "   detrap_en  defect_con\n",
       "0   1.136385    0.002080\n",
       "1   1.379246    0.001858\n",
       "2   1.556473    0.001447\n",
       "3   1.774871    0.001180"
      ]
     },
     "metadata": {},
     "output_type": "display_data"
    },
    {
     "name": "stdout",
     "output_type": "stream",
     "text": [
      "127 6.932e+17\n"
     ]
    },
    {
     "data": {
      "text/plain": [
       "'Ground Truth 8:'"
      ]
     },
     "metadata": {},
     "output_type": "display_data"
    },
    {
     "data": {
      "text/html": [
       "<div>\n",
       "<style scoped>\n",
       "    .dataframe tbody tr th:only-of-type {\n",
       "        vertical-align: middle;\n",
       "    }\n",
       "\n",
       "    .dataframe tbody tr th {\n",
       "        vertical-align: top;\n",
       "    }\n",
       "\n",
       "    .dataframe thead th {\n",
       "        text-align: right;\n",
       "    }\n",
       "</style>\n",
       "<table border=\"1\" class=\"dataframe\">\n",
       "  <thead>\n",
       "    <tr style=\"text-align: right;\">\n",
       "      <th></th>\n",
       "      <th>detrap_en</th>\n",
       "      <th>defect_con</th>\n",
       "    </tr>\n",
       "  </thead>\n",
       "  <tbody>\n",
       "    <tr>\n",
       "      <th>0</th>\n",
       "      <td>1.124905</td>\n",
       "      <td>0.002066</td>\n",
       "    </tr>\n",
       "    <tr>\n",
       "      <th>1</th>\n",
       "      <td>1.369454</td>\n",
       "      <td>0.001804</td>\n",
       "    </tr>\n",
       "    <tr>\n",
       "      <th>2</th>\n",
       "      <td>1.547300</td>\n",
       "      <td>0.001454</td>\n",
       "    </tr>\n",
       "    <tr>\n",
       "      <th>3</th>\n",
       "      <td>1.769280</td>\n",
       "      <td>0.001221</td>\n",
       "    </tr>\n",
       "  </tbody>\n",
       "</table>\n",
       "</div>"
      ],
      "text/plain": [
       "   detrap_en  defect_con\n",
       "0   1.124905    0.002066\n",
       "1   1.369454    0.001804\n",
       "2   1.547300    0.001454\n",
       "3   1.769280    0.001221"
      ]
     },
     "metadata": {},
     "output_type": "display_data"
    },
    {
     "name": "stdout",
     "output_type": "stream",
     "text": [
      "128 3.464666666666667e+17\n"
     ]
    },
    {
     "data": {
      "text/plain": [
       "'Ground Truth 9:'"
      ]
     },
     "metadata": {},
     "output_type": "display_data"
    },
    {
     "data": {
      "text/html": [
       "<div>\n",
       "<style scoped>\n",
       "    .dataframe tbody tr th:only-of-type {\n",
       "        vertical-align: middle;\n",
       "    }\n",
       "\n",
       "    .dataframe tbody tr th {\n",
       "        vertical-align: top;\n",
       "    }\n",
       "\n",
       "    .dataframe thead th {\n",
       "        text-align: right;\n",
       "    }\n",
       "</style>\n",
       "<table border=\"1\" class=\"dataframe\">\n",
       "  <thead>\n",
       "    <tr style=\"text-align: right;\">\n",
       "      <th></th>\n",
       "      <th>detrap_en</th>\n",
       "      <th>defect_con</th>\n",
       "    </tr>\n",
       "  </thead>\n",
       "  <tbody>\n",
       "    <tr>\n",
       "      <th>0</th>\n",
       "      <td>1.119924</td>\n",
       "      <td>0.002021</td>\n",
       "    </tr>\n",
       "    <tr>\n",
       "      <th>1</th>\n",
       "      <td>1.368943</td>\n",
       "      <td>0.001765</td>\n",
       "    </tr>\n",
       "    <tr>\n",
       "      <th>2</th>\n",
       "      <td>1.547590</td>\n",
       "      <td>0.001411</td>\n",
       "    </tr>\n",
       "    <tr>\n",
       "      <th>3</th>\n",
       "      <td>1.769520</td>\n",
       "      <td>0.001191</td>\n",
       "    </tr>\n",
       "  </tbody>\n",
       "</table>\n",
       "</div>"
      ],
      "text/plain": [
       "   detrap_en  defect_con\n",
       "0   1.119924    0.002021\n",
       "1   1.368943    0.001765\n",
       "2   1.547590    0.001411\n",
       "3   1.769520    0.001191"
      ]
     },
     "metadata": {},
     "output_type": "display_data"
    },
    {
     "name": "stdout",
     "output_type": "stream",
     "text": [
      "166 7.518666666666667e+16\n"
     ]
    },
    {
     "data": {
      "text/plain": [
       "'Ground Truth 10:'"
      ]
     },
     "metadata": {},
     "output_type": "display_data"
    },
    {
     "data": {
      "text/html": [
       "<div>\n",
       "<style scoped>\n",
       "    .dataframe tbody tr th:only-of-type {\n",
       "        vertical-align: middle;\n",
       "    }\n",
       "\n",
       "    .dataframe tbody tr th {\n",
       "        vertical-align: top;\n",
       "    }\n",
       "\n",
       "    .dataframe thead th {\n",
       "        text-align: right;\n",
       "    }\n",
       "</style>\n",
       "<table border=\"1\" class=\"dataframe\">\n",
       "  <thead>\n",
       "    <tr style=\"text-align: right;\">\n",
       "      <th></th>\n",
       "      <th>detrap_en</th>\n",
       "      <th>defect_con</th>\n",
       "    </tr>\n",
       "  </thead>\n",
       "  <tbody>\n",
       "    <tr>\n",
       "      <th>0</th>\n",
       "      <td>1.136385</td>\n",
       "      <td>0.002080</td>\n",
       "    </tr>\n",
       "    <tr>\n",
       "      <th>1</th>\n",
       "      <td>1.379246</td>\n",
       "      <td>0.001858</td>\n",
       "    </tr>\n",
       "    <tr>\n",
       "      <th>2</th>\n",
       "      <td>1.556473</td>\n",
       "      <td>0.001447</td>\n",
       "    </tr>\n",
       "    <tr>\n",
       "      <th>3</th>\n",
       "      <td>1.774871</td>\n",
       "      <td>0.001180</td>\n",
       "    </tr>\n",
       "  </tbody>\n",
       "</table>\n",
       "</div>"
      ],
      "text/plain": [
       "   detrap_en  defect_con\n",
       "0   1.136385    0.002080\n",
       "1   1.379246    0.001858\n",
       "2   1.556473    0.001447\n",
       "3   1.774871    0.001180"
      ]
     },
     "metadata": {},
     "output_type": "display_data"
    },
    {
     "name": "stdout",
     "output_type": "stream",
     "text": [
      "195 2.435333333333333e+17\n"
     ]
    },
    {
     "data": {
      "text/plain": [
       "'Ground Truth 11:'"
      ]
     },
     "metadata": {},
     "output_type": "display_data"
    },
    {
     "data": {
      "text/html": [
       "<div>\n",
       "<style scoped>\n",
       "    .dataframe tbody tr th:only-of-type {\n",
       "        vertical-align: middle;\n",
       "    }\n",
       "\n",
       "    .dataframe tbody tr th {\n",
       "        vertical-align: top;\n",
       "    }\n",
       "\n",
       "    .dataframe thead th {\n",
       "        text-align: right;\n",
       "    }\n",
       "</style>\n",
       "<table border=\"1\" class=\"dataframe\">\n",
       "  <thead>\n",
       "    <tr style=\"text-align: right;\">\n",
       "      <th></th>\n",
       "      <th>detrap_en</th>\n",
       "      <th>defect_con</th>\n",
       "    </tr>\n",
       "  </thead>\n",
       "  <tbody>\n",
       "    <tr>\n",
       "      <th>0</th>\n",
       "      <td>1.119144</td>\n",
       "      <td>0.001932</td>\n",
       "    </tr>\n",
       "    <tr>\n",
       "      <th>1</th>\n",
       "      <td>1.367646</td>\n",
       "      <td>0.001795</td>\n",
       "    </tr>\n",
       "    <tr>\n",
       "      <th>2</th>\n",
       "      <td>1.547052</td>\n",
       "      <td>0.001464</td>\n",
       "    </tr>\n",
       "    <tr>\n",
       "      <th>3</th>\n",
       "      <td>1.768443</td>\n",
       "      <td>0.001224</td>\n",
       "    </tr>\n",
       "  </tbody>\n",
       "</table>\n",
       "</div>"
      ],
      "text/plain": [
       "   detrap_en  defect_con\n",
       "0   1.119144    0.001932\n",
       "1   1.367646    0.001795\n",
       "2   1.547052    0.001464\n",
       "3   1.768443    0.001224"
      ]
     },
     "metadata": {},
     "output_type": "display_data"
    },
    {
     "name": "stdout",
     "output_type": "stream",
     "text": [
      "178 1.8546666666666662e+17\n"
     ]
    },
    {
     "data": {
      "text/plain": [
       "'Ground Truth 12:'"
      ]
     },
     "metadata": {},
     "output_type": "display_data"
    },
    {
     "data": {
      "text/html": [
       "<div>\n",
       "<style scoped>\n",
       "    .dataframe tbody tr th:only-of-type {\n",
       "        vertical-align: middle;\n",
       "    }\n",
       "\n",
       "    .dataframe tbody tr th {\n",
       "        vertical-align: top;\n",
       "    }\n",
       "\n",
       "    .dataframe thead th {\n",
       "        text-align: right;\n",
       "    }\n",
       "</style>\n",
       "<table border=\"1\" class=\"dataframe\">\n",
       "  <thead>\n",
       "    <tr style=\"text-align: right;\">\n",
       "      <th></th>\n",
       "      <th>detrap_en</th>\n",
       "      <th>defect_con</th>\n",
       "    </tr>\n",
       "  </thead>\n",
       "  <tbody>\n",
       "    <tr>\n",
       "      <th>0</th>\n",
       "      <td>1.115550</td>\n",
       "      <td>0.001916</td>\n",
       "    </tr>\n",
       "    <tr>\n",
       "      <th>1</th>\n",
       "      <td>1.365296</td>\n",
       "      <td>0.001761</td>\n",
       "    </tr>\n",
       "    <tr>\n",
       "      <th>2</th>\n",
       "      <td>1.545791</td>\n",
       "      <td>0.001472</td>\n",
       "    </tr>\n",
       "    <tr>\n",
       "      <th>3</th>\n",
       "      <td>1.768392</td>\n",
       "      <td>0.001220</td>\n",
       "    </tr>\n",
       "  </tbody>\n",
       "</table>\n",
       "</div>"
      ],
      "text/plain": [
       "   detrap_en  defect_con\n",
       "0   1.115550    0.001916\n",
       "1   1.365296    0.001761\n",
       "2   1.545791    0.001472\n",
       "3   1.768392    0.001220"
      ]
     },
     "metadata": {},
     "output_type": "display_data"
    },
    {
     "name": "stdout",
     "output_type": "stream",
     "text": [
      "127 1.0526666666666666e+18\n"
     ]
    },
    {
     "data": {
      "text/plain": [
       "'Ground Truth 13:'"
      ]
     },
     "metadata": {},
     "output_type": "display_data"
    },
    {
     "data": {
      "text/html": [
       "<div>\n",
       "<style scoped>\n",
       "    .dataframe tbody tr th:only-of-type {\n",
       "        vertical-align: middle;\n",
       "    }\n",
       "\n",
       "    .dataframe tbody tr th {\n",
       "        vertical-align: top;\n",
       "    }\n",
       "\n",
       "    .dataframe thead th {\n",
       "        text-align: right;\n",
       "    }\n",
       "</style>\n",
       "<table border=\"1\" class=\"dataframe\">\n",
       "  <thead>\n",
       "    <tr style=\"text-align: right;\">\n",
       "      <th></th>\n",
       "      <th>detrap_en</th>\n",
       "      <th>defect_con</th>\n",
       "    </tr>\n",
       "  </thead>\n",
       "  <tbody>\n",
       "    <tr>\n",
       "      <th>0</th>\n",
       "      <td>1.121639</td>\n",
       "      <td>0.001961</td>\n",
       "    </tr>\n",
       "    <tr>\n",
       "      <th>1</th>\n",
       "      <td>1.371012</td>\n",
       "      <td>0.001797</td>\n",
       "    </tr>\n",
       "    <tr>\n",
       "      <th>2</th>\n",
       "      <td>1.549820</td>\n",
       "      <td>0.001461</td>\n",
       "    </tr>\n",
       "    <tr>\n",
       "      <th>3</th>\n",
       "      <td>1.770411</td>\n",
       "      <td>0.001193</td>\n",
       "    </tr>\n",
       "  </tbody>\n",
       "</table>\n",
       "</div>"
      ],
      "text/plain": [
       "   detrap_en  defect_con\n",
       "0   1.121639    0.001961\n",
       "1   1.371012    0.001797\n",
       "2   1.549820    0.001461\n",
       "3   1.770411    0.001193"
      ]
     },
     "metadata": {},
     "output_type": "display_data"
    },
    {
     "name": "stdout",
     "output_type": "stream",
     "text": [
      "156 1.124e+17\n"
     ]
    },
    {
     "data": {
      "text/plain": [
       "'Ground Truth 14:'"
      ]
     },
     "metadata": {},
     "output_type": "display_data"
    },
    {
     "data": {
      "text/html": [
       "<div>\n",
       "<style scoped>\n",
       "    .dataframe tbody tr th:only-of-type {\n",
       "        vertical-align: middle;\n",
       "    }\n",
       "\n",
       "    .dataframe tbody tr th {\n",
       "        vertical-align: top;\n",
       "    }\n",
       "\n",
       "    .dataframe thead th {\n",
       "        text-align: right;\n",
       "    }\n",
       "</style>\n",
       "<table border=\"1\" class=\"dataframe\">\n",
       "  <thead>\n",
       "    <tr style=\"text-align: right;\">\n",
       "      <th></th>\n",
       "      <th>detrap_en</th>\n",
       "      <th>defect_con</th>\n",
       "    </tr>\n",
       "  </thead>\n",
       "  <tbody>\n",
       "    <tr>\n",
       "      <th>0</th>\n",
       "      <td>1.132265</td>\n",
       "      <td>0.002068</td>\n",
       "    </tr>\n",
       "    <tr>\n",
       "      <th>1</th>\n",
       "      <td>1.375968</td>\n",
       "      <td>0.001805</td>\n",
       "    </tr>\n",
       "    <tr>\n",
       "      <th>2</th>\n",
       "      <td>1.555309</td>\n",
       "      <td>0.001444</td>\n",
       "    </tr>\n",
       "    <tr>\n",
       "      <th>3</th>\n",
       "      <td>1.774590</td>\n",
       "      <td>0.001190</td>\n",
       "    </tr>\n",
       "  </tbody>\n",
       "</table>\n",
       "</div>"
      ],
      "text/plain": [
       "   detrap_en  defect_con\n",
       "0   1.132265    0.002068\n",
       "1   1.375968    0.001805\n",
       "2   1.555309    0.001444\n",
       "3   1.774590    0.001190"
      ]
     },
     "metadata": {},
     "output_type": "display_data"
    },
    {
     "name": "stdout",
     "output_type": "stream",
     "text": [
      "126 4.756e+17\n"
     ]
    }
   ],
   "source": [
    "\n",
    "expt_pred_raw = []\n",
    "for i in range(0,14):\n",
    "    x_expt = np.array(expt_des_flux[i])\n",
    "    x_expt = x_expt[0::3].reshape(1, -1)\n",
    "\n",
    "    X_expt_norm = scaler.fit_transform(x_expt)\n",
    "    X_expt_norm = scaler.transform(X_expt_norm)\n",
    "    X_test_transform = np.reshape(X_expt_norm, (X_expt_norm.shape[0], -1))\n",
    "\n",
    "    y_expt_pred = rfr_best_raw.predict(X_test_transform)\n",
    "\n",
    "    y_expt_pred = np.reshape(y_expt_pred, (8, 1))\n",
    "    pred_params = pd.DataFrame({'detrap_en':10 ** y_expt_pred[:4,0],\n",
    "                                'defect_con':10 ** y_expt_pred[4:,0]}) # Inverse log transform\n",
    "\n",
    "    display(f\"Ground Truth {i+1}:\", pred_params)\n",
    "    expt_pred_raw.append(y_expt_pred)\n",
    "    \n",
    "    y = x_expt.flatten()\n",
    "    x = np.linspace(300,1200,301)\n",
    "\n",
    "    peak_pos = np.argmax(x_expt)\n",
    "    peak_value = y[peak_pos]\n",
    "    print(peak_pos, peak_value)\n",
    "    \n",
    "    ## Exporting as .csv\n",
    "    src_path  = r'./log/raw_param/predict_params.csv'\n",
    "    p = Path(src_path).parent.joinpath(f\"raw_pred_params_{i+1}.csv\")\n",
    "    pred_params.to_csv(p, index=False)"
   ]
  },
  {
   "cell_type": "markdown",
   "metadata": {},
   "source": [
    "##### GT Features Predictions"
   ]
  },
  {
   "cell_type": "code",
   "execution_count": 58,
   "metadata": {},
   "outputs": [
    {
     "data": {
      "text/html": [
       "<div>\n",
       "<style scoped>\n",
       "    .dataframe tbody tr th:only-of-type {\n",
       "        vertical-align: middle;\n",
       "    }\n",
       "\n",
       "    .dataframe tbody tr th {\n",
       "        vertical-align: top;\n",
       "    }\n",
       "\n",
       "    .dataframe thead th {\n",
       "        text-align: right;\n",
       "    }\n",
       "</style>\n",
       "<table border=\"1\" class=\"dataframe\">\n",
       "  <thead>\n",
       "    <tr style=\"text-align: right;\">\n",
       "      <th></th>\n",
       "      <th>peak_heights</th>\n",
       "      <th>peak_pos</th>\n",
       "      <th>fwhm</th>\n",
       "      <th>peak prominences</th>\n",
       "      <th>std</th>\n",
       "      <th>auc</th>\n",
       "      <th>PCA Component 1</th>\n",
       "      <th>PCA Component 2</th>\n",
       "      <th>PCA Component 3</th>\n",
       "      <th>PCA Component 4</th>\n",
       "      <th>PCA Component 5</th>\n",
       "    </tr>\n",
       "  </thead>\n",
       "  <tbody>\n",
       "    <tr>\n",
       "      <th>0</th>\n",
       "      <td>4.768667e+16</td>\n",
       "      <td>454</td>\n",
       "      <td>290.162302</td>\n",
       "      <td>4.621400e+16</td>\n",
       "      <td>1.638158e+16</td>\n",
       "      <td>1.514390e+19</td>\n",
       "      <td>0.573820</td>\n",
       "      <td>-1.344016</td>\n",
       "      <td>-0.881941</td>\n",
       "      <td>1.446751</td>\n",
       "      <td>-1.020581</td>\n",
       "    </tr>\n",
       "    <tr>\n",
       "      <th>1</th>\n",
       "      <td>4.199333e+17</td>\n",
       "      <td>548</td>\n",
       "      <td>174.494174</td>\n",
       "      <td>4.186840e+17</td>\n",
       "      <td>1.384690e+17</td>\n",
       "      <td>7.686186e+19</td>\n",
       "      <td>-0.808185</td>\n",
       "      <td>2.219939</td>\n",
       "      <td>-0.155072</td>\n",
       "      <td>1.828198</td>\n",
       "      <td>-0.690414</td>\n",
       "    </tr>\n",
       "    <tr>\n",
       "      <th>2</th>\n",
       "      <td>1.685333e+17</td>\n",
       "      <td>568</td>\n",
       "      <td>161.047106</td>\n",
       "      <td>1.681642e+17</td>\n",
       "      <td>5.372150e+16</td>\n",
       "      <td>2.813385e+19</td>\n",
       "      <td>0.048297</td>\n",
       "      <td>0.757008</td>\n",
       "      <td>-0.613740</td>\n",
       "      <td>-0.165240</td>\n",
       "      <td>1.941612</td>\n",
       "    </tr>\n",
       "    <tr>\n",
       "      <th>3</th>\n",
       "      <td>3.017333e+17</td>\n",
       "      <td>576</td>\n",
       "      <td>202.024550</td>\n",
       "      <td>3.009301e+17</td>\n",
       "      <td>1.001815e+17</td>\n",
       "      <td>6.631249e+19</td>\n",
       "      <td>-1.753257</td>\n",
       "      <td>-0.521085</td>\n",
       "      <td>-0.466775</td>\n",
       "      <td>-1.300463</td>\n",
       "      <td>-1.230600</td>\n",
       "    </tr>\n",
       "    <tr>\n",
       "      <th>4</th>\n",
       "      <td>2.658667e+17</td>\n",
       "      <td>581</td>\n",
       "      <td>210.426077</td>\n",
       "      <td>2.651354e+17</td>\n",
       "      <td>8.937861e+16</td>\n",
       "      <td>6.013363e+19</td>\n",
       "      <td>-1.502952</td>\n",
       "      <td>-0.353701</td>\n",
       "      <td>-0.503190</td>\n",
       "      <td>-1.146980</td>\n",
       "      <td>-0.796276</td>\n",
       "    </tr>\n",
       "    <tr>\n",
       "      <th>5</th>\n",
       "      <td>2.367333e+17</td>\n",
       "      <td>549</td>\n",
       "      <td>221.706953</td>\n",
       "      <td>2.361737e+17</td>\n",
       "      <td>8.455735e+16</td>\n",
       "      <td>5.292533e+19</td>\n",
       "      <td>-0.902364</td>\n",
       "      <td>0.807566</td>\n",
       "      <td>-0.437093</td>\n",
       "      <td>-0.450549</td>\n",
       "      <td>1.044747</td>\n",
       "    </tr>\n",
       "    <tr>\n",
       "      <th>6</th>\n",
       "      <td>6.932000e+17</td>\n",
       "      <td>380</td>\n",
       "      <td>324.911173</td>\n",
       "      <td>6.924385e+17</td>\n",
       "      <td>2.459532e+17</td>\n",
       "      <td>1.972324e+20</td>\n",
       "      <td>0.267411</td>\n",
       "      <td>-0.253964</td>\n",
       "      <td>1.347879</td>\n",
       "      <td>0.043642</td>\n",
       "      <td>-0.150224</td>\n",
       "    </tr>\n",
       "    <tr>\n",
       "      <th>7</th>\n",
       "      <td>3.464667e+17</td>\n",
       "      <td>383</td>\n",
       "      <td>313.634003</td>\n",
       "      <td>3.456960e+17</td>\n",
       "      <td>1.257978e+17</td>\n",
       "      <td>9.758620e+19</td>\n",
       "      <td>0.020229</td>\n",
       "      <td>0.049100</td>\n",
       "      <td>0.039784</td>\n",
       "      <td>0.697489</td>\n",
       "      <td>0.600036</td>\n",
       "    </tr>\n",
       "    <tr>\n",
       "      <th>8</th>\n",
       "      <td>7.526667e+16</td>\n",
       "      <td>497</td>\n",
       "      <td>209.625626</td>\n",
       "      <td>7.475715e+16</td>\n",
       "      <td>2.516947e+16</td>\n",
       "      <td>1.604650e+19</td>\n",
       "      <td>0.751804</td>\n",
       "      <td>-0.742939</td>\n",
       "      <td>-0.812088</td>\n",
       "      <td>-0.975589</td>\n",
       "      <td>1.652628</td>\n",
       "    </tr>\n",
       "    <tr>\n",
       "      <th>9</th>\n",
       "      <td>2.436000e+17</td>\n",
       "      <td>586</td>\n",
       "      <td>257.656037</td>\n",
       "      <td>2.427514e+17</td>\n",
       "      <td>8.226860e+16</td>\n",
       "      <td>5.808884e+19</td>\n",
       "      <td>2.318502</td>\n",
       "      <td>1.625712</td>\n",
       "      <td>-0.210846</td>\n",
       "      <td>-1.580642</td>\n",
       "      <td>-1.445715</td>\n",
       "    </tr>\n",
       "    <tr>\n",
       "      <th>10</th>\n",
       "      <td>1.854667e+17</td>\n",
       "      <td>534</td>\n",
       "      <td>347.392095</td>\n",
       "      <td>1.845619e+17</td>\n",
       "      <td>7.335256e+16</td>\n",
       "      <td>5.973487e+19</td>\n",
       "      <td>0.309138</td>\n",
       "      <td>-0.438339</td>\n",
       "      <td>-0.337203</td>\n",
       "      <td>0.765152</td>\n",
       "      <td>0.166378</td>\n",
       "    </tr>\n",
       "    <tr>\n",
       "      <th>11</th>\n",
       "      <td>1.052667e+18</td>\n",
       "      <td>380</td>\n",
       "      <td>326.036022</td>\n",
       "      <td>1.052022e+18</td>\n",
       "      <td>3.831497e+17</td>\n",
       "      <td>3.122659e+20</td>\n",
       "      <td>-0.365535</td>\n",
       "      <td>0.081106</td>\n",
       "      <td>2.915443</td>\n",
       "      <td>-0.121697</td>\n",
       "      <td>0.366045</td>\n",
       "    </tr>\n",
       "    <tr>\n",
       "      <th>12</th>\n",
       "      <td>1.124000e+17</td>\n",
       "      <td>466</td>\n",
       "      <td>329.826095</td>\n",
       "      <td>1.112978e+17</td>\n",
       "      <td>4.123851e+16</td>\n",
       "      <td>3.296914e+19</td>\n",
       "      <td>0.318543</td>\n",
       "      <td>-0.493818</td>\n",
       "      <td>-0.655642</td>\n",
       "      <td>0.884895</td>\n",
       "      <td>-0.145871</td>\n",
       "    </tr>\n",
       "    <tr>\n",
       "      <th>13</th>\n",
       "      <td>4.756000e+17</td>\n",
       "      <td>378</td>\n",
       "      <td>341.862263</td>\n",
       "      <td>4.747071e+17</td>\n",
       "      <td>1.767816e+17</td>\n",
       "      <td>1.445679e+20</td>\n",
       "      <td>0.724548</td>\n",
       "      <td>-1.392569</td>\n",
       "      <td>0.770481</td>\n",
       "      <td>0.075032</td>\n",
       "      <td>-0.291765</td>\n",
       "    </tr>\n",
       "  </tbody>\n",
       "</table>\n",
       "</div>"
      ],
      "text/plain": [
       "    peak_heights  peak_pos        fwhm  peak prominences           std  \\\n",
       "0   4.768667e+16       454  290.162302      4.621400e+16  1.638158e+16   \n",
       "1   4.199333e+17       548  174.494174      4.186840e+17  1.384690e+17   \n",
       "2   1.685333e+17       568  161.047106      1.681642e+17  5.372150e+16   \n",
       "3   3.017333e+17       576  202.024550      3.009301e+17  1.001815e+17   \n",
       "4   2.658667e+17       581  210.426077      2.651354e+17  8.937861e+16   \n",
       "5   2.367333e+17       549  221.706953      2.361737e+17  8.455735e+16   \n",
       "6   6.932000e+17       380  324.911173      6.924385e+17  2.459532e+17   \n",
       "7   3.464667e+17       383  313.634003      3.456960e+17  1.257978e+17   \n",
       "8   7.526667e+16       497  209.625626      7.475715e+16  2.516947e+16   \n",
       "9   2.436000e+17       586  257.656037      2.427514e+17  8.226860e+16   \n",
       "10  1.854667e+17       534  347.392095      1.845619e+17  7.335256e+16   \n",
       "11  1.052667e+18       380  326.036022      1.052022e+18  3.831497e+17   \n",
       "12  1.124000e+17       466  329.826095      1.112978e+17  4.123851e+16   \n",
       "13  4.756000e+17       378  341.862263      4.747071e+17  1.767816e+17   \n",
       "\n",
       "             auc  PCA Component 1  PCA Component 2  PCA Component 3  \\\n",
       "0   1.514390e+19         0.573820        -1.344016        -0.881941   \n",
       "1   7.686186e+19        -0.808185         2.219939        -0.155072   \n",
       "2   2.813385e+19         0.048297         0.757008        -0.613740   \n",
       "3   6.631249e+19        -1.753257        -0.521085        -0.466775   \n",
       "4   6.013363e+19        -1.502952        -0.353701        -0.503190   \n",
       "5   5.292533e+19        -0.902364         0.807566        -0.437093   \n",
       "6   1.972324e+20         0.267411        -0.253964         1.347879   \n",
       "7   9.758620e+19         0.020229         0.049100         0.039784   \n",
       "8   1.604650e+19         0.751804        -0.742939        -0.812088   \n",
       "9   5.808884e+19         2.318502         1.625712        -0.210846   \n",
       "10  5.973487e+19         0.309138        -0.438339        -0.337203   \n",
       "11  3.122659e+20        -0.365535         0.081106         2.915443   \n",
       "12  3.296914e+19         0.318543        -0.493818        -0.655642   \n",
       "13  1.445679e+20         0.724548        -1.392569         0.770481   \n",
       "\n",
       "    PCA Component 4  PCA Component 5  \n",
       "0          1.446751        -1.020581  \n",
       "1          1.828198        -0.690414  \n",
       "2         -0.165240         1.941612  \n",
       "3         -1.300463        -1.230600  \n",
       "4         -1.146980        -0.796276  \n",
       "5         -0.450549         1.044747  \n",
       "6          0.043642        -0.150224  \n",
       "7          0.697489         0.600036  \n",
       "8         -0.975589         1.652628  \n",
       "9         -1.580642        -1.445715  \n",
       "10         0.765152         0.166378  \n",
       "11        -0.121697         0.366045  \n",
       "12         0.884895        -0.145871  \n",
       "13         0.075032        -0.291765  "
      ]
     },
     "metadata": {},
     "output_type": "display_data"
    }
   ],
   "source": [
    "peak_heights = []\n",
    "fwhm = []\n",
    "peak_positions = []\n",
    "area_under_curves = []\n",
    "stdev = []\n",
    "peak_prom = []\n",
    "\n",
    "for i in expt_des_flux:    \n",
    "# Peak information\n",
    "# Peak heights, position, prominence, and full width at half max\n",
    "    peaks, _ = find_peaks(i)\n",
    "    peak_pos = np.argmax(i)\n",
    "    peak_height = np.max(i)\n",
    "    peak_width, _, _, _ = peak_widths(i, [peak_pos], rel_height=0.5) \n",
    "    peak_heights.append(peak_height)\n",
    "    fwhm.append(peak_width[0])\n",
    "    peak_positions.append(peak_pos)    \n",
    "    prominence = np.max(peak_prominences(i, peaks)[0])\n",
    "    peak_prom.append(prominence)\n",
    "\n",
    "    \n",
    "# Area under curve\n",
    "# Calculated using the trapezoidal method\n",
    "    area_under_curve = auc(range(0,len(i)), i)\n",
    "    area_under_curves.append(area_under_curve)\n",
    "# STDEV\n",
    "    spectra_std = np.std(i)\n",
    "    stdev.append(spectra_std)\n",
    "    \n",
    "pca_pipe = Pipeline([\n",
    "    ('scaler', StandardScaler()),\n",
    "    ('pca', PCA(n_components=5))])\n",
    "\n",
    "scaled_expt_des = pca_pipe.fit_transform(expt_des_flux)\n",
    "result_pca = pca_pipe.fit_transform(scaled_expt_des)\n",
    "\n",
    "\n",
    "# Formatting them into columns in a df\n",
    "pca_col = ['PCA Component {}'.format(i+1) for i in range(result_pca.shape[1])]\n",
    "pca_df = pd.DataFrame(data=result_pca, columns=pca_col)\n",
    "\n",
    "### Making the features matrix \n",
    "features_matrix = pd.DataFrame()\n",
    "features_matrix['peak_heights'] = peak_heights \n",
    "features_matrix['peak_pos'] = peak_positions\n",
    "features_matrix['fwhm'] = fwhm\n",
    "features_matrix['peak prominences'] = peak_prom\n",
    "features_matrix['std'] = stdev\n",
    "features_matrix['auc'] = area_under_curves\n",
    "features_matrix = pd.concat([features_matrix, pca_df],axis=1)\n",
    "display(features_matrix)"
   ]
  },
  {
   "cell_type": "code",
   "execution_count": 59,
   "metadata": {},
   "outputs": [],
   "source": [
    "# Predicting based on features and combining predictions\n",
    "scaler.fit(X_train)\n",
    "norm_feat_mat = scaler.transform(features_matrix)\n",
    "expt_pred_feat = rfr_best_feat.predict(norm_feat_mat)\n",
    "expt_pred_raw = np.array(expt_pred_raw).reshape(14,8)\n",
    "\n",
    "combined_expt_pred = ( expt_pred_feat + expt_pred_raw ) / 2"
   ]
  },
  {
   "cell_type": "code",
   "execution_count": 60,
   "metadata": {},
   "outputs": [],
   "source": [
    "# Exporting\n",
    "for num, i in enumerate(expt_pred_feat):\n",
    "    pred_params = pd.DataFrame({'detrap_en':10 ** i[:4],\n",
    "                                'defect_con':10 ** i[4:]}) # Inverse log transform\n",
    "\n",
    "    src_path  = r'./log/feat_param/predict_params.csv'\n",
    "    p = Path(src_path).parent.joinpath(f\"feat_pred_params_{num+1}.csv\")\n",
    "    pred_params.to_csv(p, index=False)\n",
    "\n",
    "\n",
    "for num, i in enumerate(combined_expt_pred):\n",
    "    pred_params = pd.DataFrame({'detrap_en':10 ** i[:4],\n",
    "                                'defect_con':10 ** i[4:]}) # Inverse log transform\n",
    "\n",
    "    src_path  = r'./log/combined/predict_params.csv'\n",
    "    p = Path(src_path).parent.joinpath(f\"combined_pred_params_{num+1}.csv\")\n",
    "    pred_params.to_csv(p, index=False)\n",
    "    "
   ]
  }
 ],
 "metadata": {
  "colab": {
   "provenance": []
  },
  "kernelspec": {
   "display_name": "Python 3",
   "language": "python",
   "name": "python3"
  },
  "language_info": {
   "codemirror_mode": {
    "name": "ipython",
    "version": 3
   },
   "file_extension": ".py",
   "mimetype": "text/x-python",
   "name": "python",
   "nbconvert_exporter": "python",
   "pygments_lexer": "ipython3",
   "version": "3.8.8"
  }
 },
 "nbformat": 4,
 "nbformat_minor": 4
}
