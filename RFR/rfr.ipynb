{
  "cells": [
    {
      "cell_type": "code",
      "source": [
        "from google.colab import drive\n",
        "drive.mount('/content/drive/')\n",
        "import multiprocessing\n",
        "print(\"num of cpus:\", multiprocessing.cpu_count())"
      ],
      "metadata": {
        "colab": {
          "base_uri": "https://localhost:8080/",
          "height": 246
        },
        "id": "-PTV0iokUXNq",
        "outputId": "a34c74ea-1662-4e29-a04e-c6ed9f407bda"
      },
      "execution_count": null,
      "outputs": [
        {
          "output_type": "stream",
          "name": "stdout",
          "text": [
            "Drive already mounted at /content/drive/; to attempt to forcibly remount, call drive.mount(\"/content/drive/\", force_remount=True).\n",
            "num of cpus: 2\n"
          ]
        },
        {
          "output_type": "error",
          "ename": "NameError",
          "evalue": "ignored",
          "traceback": [
            "\u001b[0;31m---------------------------------------------------------------------------\u001b[0m",
            "\u001b[0;31mNameError\u001b[0m                                 Traceback (most recent call last)",
            "\u001b[0;32m<ipython-input-8-c50fd2edffa1>\u001b[0m in \u001b[0;36m<cell line: 5>\u001b[0;34m()\u001b[0m\n\u001b[1;32m      3\u001b[0m \u001b[0;32mimport\u001b[0m \u001b[0mmultiprocessing\u001b[0m\u001b[0;34m\u001b[0m\u001b[0;34m\u001b[0m\u001b[0m\n\u001b[1;32m      4\u001b[0m \u001b[0mprint\u001b[0m\u001b[0;34m(\u001b[0m\u001b[0;34m\"num of cpus:\"\u001b[0m\u001b[0;34m,\u001b[0m \u001b[0mmultiprocessing\u001b[0m\u001b[0;34m.\u001b[0m\u001b[0mcpu_count\u001b[0m\u001b[0;34m(\u001b[0m\u001b[0;34m)\u001b[0m\u001b[0;34m)\u001b[0m\u001b[0;34m\u001b[0m\u001b[0;34m\u001b[0m\u001b[0m\n\u001b[0;32m----> 5\u001b[0;31m \u001b[0mnum_datapts\u001b[0m \u001b[0;34m=\u001b[0m \u001b[0mlen\u001b[0m\u001b[0;34m(\u001b[0m\u001b[0mdf1\u001b[0m\u001b[0;34m[\u001b[0m\u001b[0;34m\"des_flux\"\u001b[0m\u001b[0;34m]\u001b[0m\u001b[0;34m)\u001b[0m\u001b[0;34m\u001b[0m\u001b[0;34m\u001b[0m\u001b[0m\n\u001b[0m",
            "\u001b[0;31mNameError\u001b[0m: name 'df1' is not defined"
          ]
        }
      ]
    },
    {
      "cell_type": "code",
      "execution_count": null,
      "metadata": {
        "id": "3G2N5HtWULxE"
      },
      "outputs": [],
      "source": [
        "#### Data preperation\n",
        "import os\n",
        "import pandas as pd\n",
        "import numpy as np\n",
        "from sklearn.model_selection import train_test_split\n",
        "from sklearn.preprocessing import StandardScaler\n",
        "\n",
        "folder_path = '/content/drive/MyDrive/TDS_data_15000'\n",
        "\n",
        "#Load and preprocess the data\n",
        "def load_data(folder_path):\n",
        "  \"\"\"\n",
        "  \"\"\"\n",
        "  data = {}\n",
        "  for filename in os.listdir(folder_path):\n",
        "      file_path = os.path.join(folder_path, filename)\n",
        "      if os.path.isfile(file_path):\n",
        "          with open(file_path, 'r') as file:\n",
        "              df1 = pd.read_csv(file_path, header=None, names=['des_flux', 'detrap_en', 'def_conc'], index_col=None, squeeze = True)\n",
        "              #df1 = df1.fillna(df1.mean()) # Replace NaN with column average\n",
        "              data[filename] = df1\n",
        "    \n",
        "              num_datapts = len(df1[\"des_flux\"])\n",
        "  # Combine all the data into a single dataframe\n",
        "  df = pd.concat(data.values())\n",
        "\n",
        "  return df, num_datapts\n",
        "\n",
        "df, num_datapts = load_data(folder_path)\n",
        "\n",
        "des_flux=df['des_flux']\n",
        "des_flux=des_flux.tolist()\n",
        "num_files=int(len(des_flux)/num_datapts) \n",
        "des_flux=np.reshape(des_flux, [num_files, num_datapts])\n",
        "    # This assumes that all spectra in the dataset/folder have the same\n",
        "    # amount of datapoints\n",
        "display(des_flux)\n",
        "#print(type(des_flux[0]), des_flux.shape)\n",
        "\n",
        "detrap_en=df['detrap_en']\n",
        "detrap_en=detrap_en.dropna()\n",
        "detrap_en=detrap_en.tolist()\n",
        "num_files=int(len(detrap_en)/4)\n",
        "detrap_en=np.reshape(detrap_en, [num_files, 4])\n",
        "#print(detrap_en, detrap_en.shape)\n",
        "\n",
        "def_conc=df['def_conc']\n",
        "def_conc=def_conc.dropna()\n",
        "def_conc=def_conc.tolist()\n",
        "num_files=int(len(def_conc)/4)\n",
        "def_conc=np.reshape(def_conc, [num_files, 4])\n",
        "#print(def_conc, def_conc.shape)\n",
        "\n",
        "def_param = np.concatenate([detrap_en, def_conc], axis=1)\n",
        "print(def_param.shape)\n",
        "\n",
        "# Split the data into train and test sets\n",
        "X_train, X_test= train_test_split(des_flux, test_size=0.1, random_state=42)\n",
        "y_train, y_test = train_test_split(def_param, test_size=0.1, random_state=42)\n",
        "display(X_train.shape, X_test.shape, y_train.shape, y_test.shape)\n",
        "\n",
        "# Normalize the data\n",
        "scaler = StandardScaler(with_mean=True, with_std=True)\n",
        "X_train_norm = scaler.fit_transform(X_train.reshape(-1, 1))\n",
        "X_test_norm = scaler.transform(X_test.reshape(-1, 1))\n",
        "\n",
        "#Reshape data for model input\n",
        "#Checked to make sure the time-series nature of the X_train, X_test is intact, can double check\n",
        "#By calling an array and comparing with a .csv file\n",
        "X_train_transform = np.reshape(X_train_norm, (X_train.shape))\n",
        "print(X_train_transform.shape)\n",
        "\n",
        "X_test_transform = np.reshape(X_test_norm, (X_test.shape))\n",
        "\n"
      ]
    },
    {
      "cell_type": "code",
      "execution_count": null,
      "metadata": {
        "id": "4VyBQHkkULxG"
      },
      "outputs": [],
      "source": [
        "from sklearn.ensemble import RandomForestRegressor\n",
        "from sklearn.metrics import mean_squared_error\n",
        "from sklearn.model_selection import GridSearchCV, KFold\n",
        "from sklearn.tree import plot_tree\n",
        "from joblib import Parallel, delayed, parallel_backend#, print_progress\n",
        "\n",
        "### Defining a function to train a random forest with gridsearchcv\n",
        "def train_rf(X_train, y_train, X_test, y_test, i, n_estimators=None, max_depth=None):\n",
        "    \"\"\"Trains a random forest regression model using preprocessed training data.\n",
        "    Without specifying parameters, will preform a gridsearch across a range.\n",
        "    \"\"\"\n",
        "    rfr = RandomForestRegressor() \n",
        "    folds = KFold(n_splits=10, shuffle=True)\n",
        "    rfr_y_pred = [] \n",
        "    if n_estimators is not None and max_depth is not None:\n",
        "        train_rf = RandomForestRegressor(n_estimators=n_estimators,max_depth=max_depth)\n",
        "        train_rf.fit(X_train, y_train)\n",
        "        rfr_y_pred = train_rf.predict(X_test)\n",
        "    else:\n",
        "        param_grid= {\"n_estimators\": range(1,100), \"max_depth\": range(1,50)}\n",
        "        with parallel_backend('threading', n_jobs=-1): # threading to avoid nested loop error\n",
        "            train_rf = GridSearchCV(rfr, param_grid, \n",
        "                           return_train_score=True,\n",
        "                           scoring=\"neg_mean_squared_error\",\n",
        "                            cv=folds, n_jobs=20)\n",
        "        train_rf.fit(X_train, y_train)\n",
        "            #fitting_models = Parallel()(delayed(rf_gcv.fit)(X, y) for X, y in zip(X for i in range(num_models), y_list))\n",
        "            \n",
        "        print(train_rf.best_params_)\n",
        "        print(train_rf.best_score_)\n",
        "        \n",
        "        # Predict based on test data \n",
        "        train_rf = train_rf.best_estimator_\n",
        "        rfr_y_pred = train_rf.predict(X_test)\n",
        "    \n",
        "        # Calculate the mse \n",
        "    mse = mean_squared_error(y_test, rfr_y_pred)\n",
        "\n",
        "    # Print the MSE for this model\n",
        "    #print(f\"Model {i} MSE: {mse}\")\n",
        "\n",
        "    return train_rf, rfr_y_pred\n"
      ]
    },
    {
      "cell_type": "markdown",
      "source": [
        "### 0.3K/s, 15K dataset without noise"
      ],
      "metadata": {
        "id": "XG8TOssopnR9"
      }
    },
    {
      "cell_type": "code",
      "execution_count": null,
      "metadata": {
        "colab": {
          "base_uri": "https://localhost:8080/"
        },
        "id": "GHXdUbFDULxH",
        "outputId": "6284f530-bef8-487c-ab43-3f14ab249113"
      },
      "outputs": [
        {
          "output_type": "stream",
          "name": "stdout",
          "text": [
            "Final Test MSE = 0.003916376700614401\n",
            "CPU times: user 2.5 s, sys: 499 ms, total: 3 s\n",
            "Wall time: 7min 49s\n"
          ]
        }
      ],
      "source": [
        "%%time\n",
        "# https://joblib.readthedocs.io/en/latest/parallel.html\n",
        "num_models = 5 # set number of models to run in parallel\n",
        "\n",
        "with parallel_backend('multiprocessing', n_jobs=-1): # multiprocessing for outloop, prevents the parallel nested loop error\n",
        "    models = Parallel()(delayed(train_rf)(X_train_transform, y_train, X_test_transform, y_test, i, n_estimators=49, max_depth=7) for i in range(num_models))\n",
        "\n",
        "    # best_params = {'max_depth': 7, 'n_estimators': 49} \n",
        "    \n",
        "# Combines predictions from all the models by taking the mean\n",
        "y_pred = [model[1] for model in models]\n",
        "y_pred_mean = np.mean(y_pred, axis=0)\n",
        "\n",
        "# Calculates final MSE\n",
        "mse = mean_squared_error(y_test, y_pred_mean)\n",
        "\n",
        "# Prints final MSE\n",
        "print(f\"Final Test MSE = {mse}\")\n"
      ]
    },
    {
      "cell_type": "code",
      "execution_count": null,
      "metadata": {
        "colab": {
          "base_uri": "https://localhost:8080/",
          "height": 445
        },
        "id": "niSsr5ZCULxH",
        "outputId": "acbd5dc2-b1f5-48b1-a786-4cea7efffa10"
      },
      "outputs": [
        {
          "output_type": "display_data",
          "data": {
            "text/plain": [
              "<Figure size 640x480 with 1 Axes>"
            ],
            "image/png": "[encoded data removed]"
          },
          "metadata": {}
        }
      ],
      "source": [
        "### Adding noise\n",
        "import matplotlib.pyplot as plt\n",
        "\n",
        "spect_wnoise=[]\n",
        "noise_array=[]\n",
        "sigma_list=[]\n",
        "for n in np.arange(0, len(des_flux)):\n",
        "    sigma_rand = np.random.uniform(1E14, 1E17)\n",
        "    for i, k in enumerate(des_flux[n]):\n",
        "        spect_wnoise.append(np.random.normal(k, sigma_rand))\n",
        "    sigma_list.append(str(sigma_rand))\n",
        "    noise_array.append(spect_wnoise)\n",
        "    spect_wnoise=[]\n",
        "#plt.plot(noise_array[4])\n",
        "#plt.show()\n"
      ]
    },
    {
      "cell_type": "code",
      "execution_count": null,
      "metadata": {
        "colab": {
          "base_uri": "https://localhost:8080/"
        },
        "id": "prI93ZEMULxI",
        "outputId": "a24b6353-afef-4a91-ad54-6512f838729b"
      },
      "outputs": [
        {
          "output_type": "stream",
          "name": "stdout",
          "text": [
            "(13500, 301)\n",
            "(1500, 301)\n"
          ]
        }
      ],
      "source": [
        "# Setting test and train data using noisy spectra\n",
        "X_train, X_test= train_test_split(noise_array, test_size=0.1, random_state=42)\n",
        "y_train, y_test = train_test_split(def_param, test_size=0.1, random_state=42)\n",
        "\n",
        "\n",
        "# Normalize the data\n",
        "# Change lists into array\n",
        "scaler = StandardScaler(with_mean=True, with_std=True)\n",
        "X_train_norm = scaler.fit_transform(np.array(X_train).reshape(-1, 1))\n",
        "X_test_norm = scaler.transform(np.array(X_test).reshape(-1, 1))\n",
        "\n",
        "#Reshape data for model input\n",
        "#Checked to make sure the time-series nature of\n",
        "#the X_train, X_test is intact, can double check\n",
        "#By calling an array and comparing with a .csv file\n",
        "X_train_transform = np.reshape(X_train_norm, (np.array(X_train).shape[0],-1))\n",
        "print(X_train_transform.shape)\n",
        "\n",
        "X_test_transform = np.reshape(X_test_norm, (np.array(X_test).shape[0],-1))\n",
        "print(X_test_transform.shape)\n"
      ]
    },
    {
      "cell_type": "markdown",
      "source": [
        "### 0.3K/s, 15K dataset with noise"
      ],
      "metadata": {
        "id": "eZtYaBdqpYsa"
      }
    },
    {
      "cell_type": "code",
      "execution_count": null,
      "metadata": {
        "colab": {
          "base_uri": "https://localhost:8080/"
        },
        "id": "ac-eFyMxULxI",
        "outputId": "1eb4901f-e775-4409-aec5-08ce87d00055"
      },
      "outputs": [
        {
          "output_type": "stream",
          "name": "stdout",
          "text": [
            "Final MSE = 0.004264739521846113\n",
            "CPU times: user 3.11 s, sys: 576 ms, total: 3.69 s\n",
            "Wall time: 8min 56s\n"
          ]
        }
      ],
      "source": [
        "%%time\n",
        "num_models = 5 # set number of models to run in parallel\n",
        "\n",
        "with parallel_backend('multiprocessing', n_jobs=-1): # multiprocessing for outloop, prevents the parallel nested loop error\n",
        "    noise_models = Parallel()(delayed(train_rf)(X_train_transform, y_train, X_test_transform, y_test, i, n_estimators=49, max_depth=7) for i in range(num_models))\n",
        "\n",
        "# Combines predictions from all the models by taking the mean\n",
        "y_pred = [model[1] for model in noise_models]\n",
        "y_pred_mean = np.mean(y_pred, axis=0)\n",
        "\n",
        "# Prints final MSE\n",
        "mse = mean_squared_error(y_test, y_pred_mean)\n",
        "print(f\"Final MSE = {mse}\")"
      ]
    },
    {
      "cell_type": "code",
      "source": [],
      "metadata": {
        "id": "B_oyKKpjtfAd"
      },
      "execution_count": null,
      "outputs": []
    },
    {
      "cell_type": "code",
      "execution_count": null,
      "metadata": {
        "colab": {
          "base_uri": "https://localhost:8080/"
        },
        "id": "AV9YrfiZULxI",
        "outputId": "684af9a0-d7d6-45a7-f89d-2753aa5375b1"
      },
      "outputs": [
        {
          "output_type": "stream",
          "name": "stdout",
          "text": [
            "MSE = 0.008725202455676108\n"
          ]
        }
      ],
      "source": [
        "### Basic PLSR\n",
        "from sklearn.cross_decomposition import PLSRegression\n",
        "plsr = PLSRegression(n_components=2)\n",
        "plsr.fit(X_train_transform, y_train)\n",
        "X_train_pls = plsr.transform(X_train_transform)\n",
        "pls_pred = plsr.predict(X_test_transform)\n",
        "# Calculates mse \n",
        "mse = mean_squared_error(y_test, pls_pred)\n",
        "print(f\"MSE = {mse}\")"
      ]
    }
  ],
  "metadata": {
    "kernelspec": {
      "display_name": "Python 3 (ipykernel)",
      "language": "python",
      "name": "python3"
    },
    "language_info": {
      "codemirror_mode": {
        "name": "ipython",
        "version": 3
      },
      "file_extension": ".py",
      "mimetype": "text/x-python",
      "name": "python",
      "nbconvert_exporter": "python",
      "pygments_lexer": "ipython3",
      "version": "3.9.13"
    },
    "colab": {
      "provenance": []
    }
  },
  "nbformat": 4,
  "nbformat_minor": 0
}